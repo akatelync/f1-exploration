{
 "cells": [
  {
   "cell_type": "code",
   "execution_count": 2,
   "metadata": {},
   "outputs": [
    {
     "name": "stdout",
     "output_type": "stream",
     "text": [
      "Requirement already satisfied: fastf1 in ./.venv/lib/python3.11/site-packages (3.4.3)\n",
      "Requirement already satisfied: matplotlib<4.0.0,>=3.5.1 in ./.venv/lib/python3.11/site-packages (from fastf1) (3.9.2)\n",
      "Requirement already satisfied: numpy<3.0.0,>=1.23.1 in ./.venv/lib/python3.11/site-packages (from fastf1) (2.1.2)\n",
      "Requirement already satisfied: pandas<3.0.0,>=1.4.1 in ./.venv/lib/python3.11/site-packages (from fastf1) (2.2.3)\n",
      "Requirement already satisfied: python-dateutil in ./.venv/lib/python3.11/site-packages (from fastf1) (2.9.0.post0)\n",
      "Requirement already satisfied: rapidfuzz in ./.venv/lib/python3.11/site-packages (from fastf1) (3.10.1)\n",
      "Requirement already satisfied: requests-cache>=1.0.0 in ./.venv/lib/python3.11/site-packages (from fastf1) (1.2.1)\n",
      "Requirement already satisfied: requests>=2.28.1 in ./.venv/lib/python3.11/site-packages (from fastf1) (2.32.3)\n",
      "Requirement already satisfied: scipy<2.0.0,>=1.8.1 in ./.venv/lib/python3.11/site-packages (from fastf1) (1.14.1)\n",
      "Requirement already satisfied: timple>=0.1.6 in ./.venv/lib/python3.11/site-packages (from fastf1) (0.1.8)\n",
      "Requirement already satisfied: websockets>=10.3 in ./.venv/lib/python3.11/site-packages (from fastf1) (13.1)\n",
      "Requirement already satisfied: contourpy>=1.0.1 in ./.venv/lib/python3.11/site-packages (from matplotlib<4.0.0,>=3.5.1->fastf1) (1.3.0)\n",
      "Requirement already satisfied: cycler>=0.10 in ./.venv/lib/python3.11/site-packages (from matplotlib<4.0.0,>=3.5.1->fastf1) (0.12.1)\n",
      "Requirement already satisfied: fonttools>=4.22.0 in ./.venv/lib/python3.11/site-packages (from matplotlib<4.0.0,>=3.5.1->fastf1) (4.54.1)\n",
      "Requirement already satisfied: kiwisolver>=1.3.1 in ./.venv/lib/python3.11/site-packages (from matplotlib<4.0.0,>=3.5.1->fastf1) (1.4.7)\n",
      "Requirement already satisfied: packaging>=20.0 in ./.venv/lib/python3.11/site-packages (from matplotlib<4.0.0,>=3.5.1->fastf1) (24.1)\n",
      "Requirement already satisfied: pillow>=8 in ./.venv/lib/python3.11/site-packages (from matplotlib<4.0.0,>=3.5.1->fastf1) (11.0.0)\n",
      "Requirement already satisfied: pyparsing>=2.3.1 in ./.venv/lib/python3.11/site-packages (from matplotlib<4.0.0,>=3.5.1->fastf1) (3.2.0)\n",
      "Requirement already satisfied: pytz>=2020.1 in ./.venv/lib/python3.11/site-packages (from pandas<3.0.0,>=1.4.1->fastf1) (2024.2)\n",
      "Requirement already satisfied: tzdata>=2022.7 in ./.venv/lib/python3.11/site-packages (from pandas<3.0.0,>=1.4.1->fastf1) (2024.2)\n",
      "Requirement already satisfied: six>=1.5 in ./.venv/lib/python3.11/site-packages (from python-dateutil->fastf1) (1.16.0)\n",
      "Requirement already satisfied: charset-normalizer<4,>=2 in ./.venv/lib/python3.11/site-packages (from requests>=2.28.1->fastf1) (3.4.0)\n",
      "Requirement already satisfied: idna<4,>=2.5 in ./.venv/lib/python3.11/site-packages (from requests>=2.28.1->fastf1) (3.10)\n",
      "Requirement already satisfied: urllib3<3,>=1.21.1 in ./.venv/lib/python3.11/site-packages (from requests>=2.28.1->fastf1) (2.2.3)\n",
      "Requirement already satisfied: certifi>=2017.4.17 in ./.venv/lib/python3.11/site-packages (from requests>=2.28.1->fastf1) (2024.8.30)\n",
      "Requirement already satisfied: attrs>=21.2 in ./.venv/lib/python3.11/site-packages (from requests-cache>=1.0.0->fastf1) (24.2.0)\n",
      "Requirement already satisfied: cattrs>=22.2 in ./.venv/lib/python3.11/site-packages (from requests-cache>=1.0.0->fastf1) (24.1.2)\n",
      "Requirement already satisfied: platformdirs>=2.5 in ./.venv/lib/python3.11/site-packages (from requests-cache>=1.0.0->fastf1) (4.3.6)\n",
      "Requirement already satisfied: url-normalize>=1.4 in ./.venv/lib/python3.11/site-packages (from requests-cache>=1.0.0->fastf1) (1.4.3)\n",
      "\n",
      "\u001b[1m[\u001b[0m\u001b[34;49mnotice\u001b[0m\u001b[1;39;49m]\u001b[0m\u001b[39;49m A new release of pip is available: \u001b[0m\u001b[31;49m24.2\u001b[0m\u001b[39;49m -> \u001b[0m\u001b[32;49m24.3.1\u001b[0m\n",
      "\u001b[1m[\u001b[0m\u001b[34;49mnotice\u001b[0m\u001b[1;39;49m]\u001b[0m\u001b[39;49m To update, run: \u001b[0m\u001b[32;49mpip install --upgrade pip\u001b[0m\n",
      "Note: you may need to restart the kernel to use updated packages.\n"
     ]
    }
   ],
   "source": [
    "%pip install --upgrade fastf1"
   ]
  },
  {
   "cell_type": "code",
   "execution_count": 3,
   "metadata": {},
   "outputs": [],
   "source": [
    "import fastf1\n",
    "import datetime\n",
    "\n",
    "import pandas as pd\n",
    "import numpy as np\n",
    "\n",
    "from typing import List"
   ]
  },
  {
   "cell_type": "code",
   "execution_count": 4,
   "metadata": {},
   "outputs": [
    {
     "data": {
      "text/plain": [
       "datetime.datetime(2024, 11, 11, 14, 46, 10, 548585)"
      ]
     },
     "execution_count": 4,
     "metadata": {},
     "output_type": "execute_result"
    }
   ],
   "source": [
    "datetime.datetime.today()"
   ]
  },
  {
   "cell_type": "code",
   "execution_count": 242,
   "metadata": {},
   "outputs": [],
   "source": [
    "def rank_quali_laps(df: pd.DataFrame) -> pd.DataFrame:\n",
    "    \"\"\"\n",
    "    Ranks lap times by speed within each QualiSession.\n",
    "    The fastest lap gets rank 1, updating as new laps are set.\n",
    "    \n",
    "    Parameters:\n",
    "    df (pandas.DataFrame): DataFrame containing qualifying data with LapTime and QualiSession columns\n",
    "    \n",
    "    Returns:\n",
    "    pandas.DataFrame: Original DataFrame with new 'LapRank' and 'CurrentFastestLap' columns\n",
    "    \"\"\"\n",
    "    \n",
    "    # Sort by QualiSession and LapStartDate to maintain chronological order\n",
    "    df = df.sort_values([\"Event\", \"QualiSession\", \"LapStartDate\"])\n",
    "    \n",
    "    def update_rankings(group):\n",
    "        # Create a running ranking based on laptimes seen so far\n",
    "        group = group.copy()\n",
    "        for idx in range(len(group)):\n",
    "            current_slice = group.iloc[:idx + 1]\n",
    "            # Rank the laptimes\n",
    "            current_ranks = current_slice[\"LapTime\"].rank(method=\"min\", ascending=True)\n",
    "            group.iloc[idx, group.columns.get_loc(\"LapRank\")] = current_ranks.iloc[-1]\n",
    "            \n",
    "            # Store the current fastest lap time for reference\n",
    "            group.iloc[idx, group.columns.get_loc(\"CurrentFastestLap\")] = \\\n",
    "                current_slice[\"LapTime\"].min()\n",
    "        \n",
    "        return group\n",
    "    \n",
    "    # Initialize new columns\n",
    "    df[\"LapRank\"] = float(\"nan\")\n",
    "    df[\"CurrentFastestLap\"] = pd.Timedelta(0)\n",
    "    \n",
    "    # Apply the ranking function to each QualiSession group\n",
    "    df = df.groupby(\"QualiSession\", group_keys=False).apply(update_rankings)\n",
    "\n",
    "    # Calculate the delta between CurrentFastestLap and LapTime\n",
    "    df[\"DeltaFastestLap\"] = df[\"LapTime\"] - df[\"CurrentFastestLap\"]\n",
    "    \n",
    "    return df"
   ]
  },
  {
   "cell_type": "code",
   "execution_count": 248,
   "metadata": {},
   "outputs": [],
   "source": [
    "def extract_data(\n",
    "    year: List[int],\n",
    "    session_type: str,\n",
    ") -> pd.DataFrame:\n",
    "    \n",
    "    cols_to_keep = [\"Event\", \"Driver\", \"Team\", \"LapTime\", \"LapNumber\", \"Stint\", \"Sector1Time\", \"Sector2Time\", \"Sector3Time\", \n",
    "                \"SpeedI1\", \"SpeedI2\", \"SpeedFL\", \"SpeedST\", \"IsPersonalBest\", \"Compound\", \"TyreLife\", \"FreshTyre\",\n",
    "                \"TrackStatus\", \"Deleted\", \"DeletedReason\", \"LapStartDate\"]\n",
    "    \n",
    "    dfs = []\n",
    "    for i in year:\n",
    "        schedule = fastf1.get_event_schedule(i)\n",
    "        gps = list(schedule[(schedule[\"EventFormat\"]!=\"testing\") & (schedule[\"EventDate\"]<datetime.datetime.today())][\"EventName\"])\n",
    "\n",
    "        for gp in gps:\n",
    "            print(f\"{i} {gp}\")\n",
    "            session = fastf1.get_session(i, gp, session_type)\n",
    "            session.load()\n",
    "            \n",
    "            laps_df = session.laps\n",
    "            laps_df[\"Event\"] = f\"{i} {gp}\"\n",
    "\n",
    "            laps_df = laps_df[(laps_df[\"PitInTime\"].isna()) & (laps_df[\"PitOutTime\"].isna())]\n",
    "\n",
    "            laps_df = laps_df[cols_to_keep]\n",
    "\n",
    "            race_control_df = session.race_control_messages\n",
    "            quali_sessions = race_control_df[(race_control_df.Message.str.contains(\"GREEN LIGHT\")) |\n",
    "                                (race_control_df.Message.str.contains(\"CHEQUERED FLAG\")) |\n",
    "                                (race_control_df.Message.str.contains(\"WILL NOT BE RESUMED\"))]\n",
    "\n",
    "            # Get starting times for each qualifying session\n",
    "            quali_sessions[\"GreenLightCount\"] = (quali_sessions[\"Message\"].str.contains(\"GREEN LIGHT\")\n",
    "                                                .groupby((quali_sessions[\"Message\"]!=quali_sessions[\"Message\"].shift()).cumsum())\n",
    "                                                .cumsum())\n",
    "            quali_sessions = quali_sessions[quali_sessions[\"GreenLightCount\"]==1] # first instance of green light means start of session\n",
    "\n",
    "            quali_sessions[\"QualiSession\"] = [\"Q\" + str(i) for i in range(1, len(quali_sessions) + 1)]\n",
    "            quali_sessions = quali_sessions[[\"Time\", \"QualiSession\"]]\n",
    "\n",
    "            q1_mask = (laps_df[\"LapStartDate\"] >= quali_sessions.loc[quali_sessions[\"QualiSession\"] == \"Q1\", \"Time\"].iloc[0]) & \\\n",
    "                        (laps_df[\"LapStartDate\"] < quali_sessions.loc[quali_sessions[\"QualiSession\"] == \"Q2\", \"Time\"].iloc[0])\n",
    "                    \n",
    "            q2_mask = (laps_df[\"LapStartDate\"] >= quali_sessions.loc[quali_sessions[\"QualiSession\"] == \"Q2\", \"Time\"].iloc[0]) & \\\n",
    "                        (laps_df[\"LapStartDate\"] < quali_sessions.loc[quali_sessions[\"QualiSession\"] == \"Q3\", \"Time\"].iloc[0])\n",
    "                \n",
    "            q3_mask = laps_df[\"LapStartDate\"] >= quali_sessions.loc[quali_sessions[\"QualiSession\"] == \"Q3\", \"Time\"].iloc[0]\n",
    "\n",
    "            laps_df.loc[q1_mask, \"QualiSession\"] = \"Q1\"\n",
    "            laps_df.loc[q2_mask, \"QualiSession\"] = \"Q2\"\n",
    "            laps_df.loc[q3_mask, \"QualiSession\"] = \"Q3\"\n",
    "\n",
    "            quali_df = rank_quali_laps(laps_df)\n",
    "\n",
    "            dfs.append(quali_df)\n",
    "\n",
    "    return pd.concat(dfs)"
   ]
  },
  {
   "cell_type": "code",
   "execution_count": 262,
   "metadata": {},
   "outputs": [
    {
     "name": "stderr",
     "output_type": "stream",
     "text": [
      "core           INFO \tLoading data for Bahrain Grand Prix - Qualifying [v3.4.3]\n",
      "req            INFO \tUsing cached data for session_info\n",
      "req            INFO \tUsing cached data for driver_info\n"
     ]
    },
    {
     "name": "stdout",
     "output_type": "stream",
     "text": [
      "2023 Bahrain Grand Prix\n"
     ]
    },
    {
     "name": "stderr",
     "output_type": "stream",
     "text": [
      "req            INFO \tUsing cached data for session_status_data\n",
      "req            INFO \tUsing cached data for track_status_data\n",
      "req            INFO \tUsing cached data for _extended_timing_data\n",
      "req            INFO \tUsing cached data for timing_app_data\n",
      "core           INFO \tProcessing timing data...\n",
      "req            INFO \tUsing cached data for car_data\n",
      "req            INFO \tUsing cached data for position_data\n",
      "req            INFO \tUsing cached data for weather_data\n",
      "req            INFO \tUsing cached data for race_control_messages\n",
      "core           INFO \tFinished loading data for 20 drivers: ['1', '11', '16', '55', '14', '63', '44', '18', '31', '27', '4', '77', '24', '22', '23', '2', '20', '81', '21', '10']\n",
      "/var/folders/1p/_mmx_n854bl5ytvfkg4h377m0000gn/T/ipykernel_2776/877282191.py:33: SettingWithCopyWarning: \n",
      "A value is trying to be set on a copy of a slice from a DataFrame.\n",
      "Try using .loc[row_indexer,col_indexer] = value instead\n",
      "\n",
      "See the caveats in the documentation: https://pandas.pydata.org/pandas-docs/stable/user_guide/indexing.html#returning-a-view-versus-a-copy\n",
      "  quali_sessions[\"GreenLightCount\"] = (quali_sessions[\"Message\"].str.contains(\"GREEN LIGHT\")\n",
      "/var/folders/1p/_mmx_n854bl5ytvfkg4h377m0000gn/T/ipykernel_2776/3747660080.py:36: DeprecationWarning: DataFrameGroupBy.apply operated on the grouping columns. This behavior is deprecated, and in a future version of pandas the grouping columns will be excluded from the operation. Either pass `include_groups=False` to exclude the groupings or explicitly select the grouping columns after groupby to silence this warning.\n",
      "  df = df.groupby(\"QualiSession\", group_keys=False).apply(update_rankings)\n",
      "core           INFO \tLoading data for Saudi Arabian Grand Prix - Qualifying [v3.4.3]\n",
      "req            INFO \tUsing cached data for session_info\n",
      "req            INFO \tUsing cached data for driver_info\n"
     ]
    },
    {
     "name": "stdout",
     "output_type": "stream",
     "text": [
      "2023 Saudi Arabian Grand Prix\n"
     ]
    },
    {
     "name": "stderr",
     "output_type": "stream",
     "text": [
      "req            INFO \tUsing cached data for session_status_data\n",
      "req            INFO \tUsing cached data for track_status_data\n",
      "req            INFO \tUsing cached data for _extended_timing_data\n",
      "req            INFO \tUsing cached data for timing_app_data\n",
      "core           INFO \tProcessing timing data...\n",
      "req            INFO \tUsing cached data for car_data\n",
      "req            INFO \tUsing cached data for position_data\n",
      "req            INFO \tUsing cached data for weather_data\n",
      "req            INFO \tUsing cached data for race_control_messages\n",
      "core           INFO \tFinished loading data for 20 drivers: ['11', '16', '14', '63', '55', '18', '31', '44', '81', '10', '27', '24', '20', '77', '1', '22', '23', '21', '4', '2']\n",
      "/var/folders/1p/_mmx_n854bl5ytvfkg4h377m0000gn/T/ipykernel_2776/877282191.py:33: SettingWithCopyWarning: \n",
      "A value is trying to be set on a copy of a slice from a DataFrame.\n",
      "Try using .loc[row_indexer,col_indexer] = value instead\n",
      "\n",
      "See the caveats in the documentation: https://pandas.pydata.org/pandas-docs/stable/user_guide/indexing.html#returning-a-view-versus-a-copy\n",
      "  quali_sessions[\"GreenLightCount\"] = (quali_sessions[\"Message\"].str.contains(\"GREEN LIGHT\")\n",
      "/var/folders/1p/_mmx_n854bl5ytvfkg4h377m0000gn/T/ipykernel_2776/3747660080.py:36: DeprecationWarning: DataFrameGroupBy.apply operated on the grouping columns. This behavior is deprecated, and in a future version of pandas the grouping columns will be excluded from the operation. Either pass `include_groups=False` to exclude the groupings or explicitly select the grouping columns after groupby to silence this warning.\n",
      "  df = df.groupby(\"QualiSession\", group_keys=False).apply(update_rankings)\n",
      "core           INFO \tLoading data for Australian Grand Prix - Qualifying [v3.4.3]\n",
      "req            INFO \tUsing cached data for session_info\n",
      "req            INFO \tUsing cached data for driver_info\n"
     ]
    },
    {
     "name": "stdout",
     "output_type": "stream",
     "text": [
      "2023 Australian Grand Prix\n"
     ]
    },
    {
     "name": "stderr",
     "output_type": "stream",
     "text": [
      "req            INFO \tUsing cached data for session_status_data\n",
      "req            INFO \tUsing cached data for track_status_data\n",
      "req            INFO \tUsing cached data for _extended_timing_data\n",
      "req            INFO \tUsing cached data for timing_app_data\n",
      "core           INFO \tProcessing timing data...\n",
      "req            INFO \tUsing cached data for car_data\n",
      "req            INFO \tUsing cached data for position_data\n",
      "req            INFO \tUsing cached data for weather_data\n",
      "req            INFO \tUsing cached data for race_control_messages\n",
      "core           INFO \tFinished loading data for 20 drivers: ['1', '63', '44', '14', '55', '18', '16', '23', '10', '27', '31', '22', '4', '20', '21', '81', '24', '2', '77', '11']\n",
      "/var/folders/1p/_mmx_n854bl5ytvfkg4h377m0000gn/T/ipykernel_2776/877282191.py:33: SettingWithCopyWarning: \n",
      "A value is trying to be set on a copy of a slice from a DataFrame.\n",
      "Try using .loc[row_indexer,col_indexer] = value instead\n",
      "\n",
      "See the caveats in the documentation: https://pandas.pydata.org/pandas-docs/stable/user_guide/indexing.html#returning-a-view-versus-a-copy\n",
      "  quali_sessions[\"GreenLightCount\"] = (quali_sessions[\"Message\"].str.contains(\"GREEN LIGHT\")\n",
      "/var/folders/1p/_mmx_n854bl5ytvfkg4h377m0000gn/T/ipykernel_2776/3747660080.py:36: DeprecationWarning: DataFrameGroupBy.apply operated on the grouping columns. This behavior is deprecated, and in a future version of pandas the grouping columns will be excluded from the operation. Either pass `include_groups=False` to exclude the groupings or explicitly select the grouping columns after groupby to silence this warning.\n",
      "  df = df.groupby(\"QualiSession\", group_keys=False).apply(update_rankings)\n",
      "core           INFO \tLoading data for Azerbaijan Grand Prix - Qualifying [v3.4.3]\n",
      "req            INFO \tUsing cached data for session_info\n",
      "req            INFO \tUsing cached data for driver_info\n"
     ]
    },
    {
     "name": "stdout",
     "output_type": "stream",
     "text": [
      "2023 Azerbaijan Grand Prix\n"
     ]
    },
    {
     "name": "stderr",
     "output_type": "stream",
     "text": [
      "req            INFO \tUsing cached data for session_status_data\n",
      "req            INFO \tUsing cached data for track_status_data\n",
      "req            INFO \tUsing cached data for _extended_timing_data\n",
      "req            INFO \tUsing cached data for timing_app_data\n",
      "core           INFO \tProcessing timing data...\n",
      "req            INFO \tUsing cached data for car_data\n",
      "req            INFO \tUsing cached data for position_data\n",
      "req            INFO \tUsing cached data for weather_data\n",
      "req            INFO \tUsing cached data for race_control_messages\n",
      "core           INFO \tFinished loading data for 20 drivers: ['16', '1', '11', '55', '44', '14', '4', '22', '18', '81', '63', '31', '23', '77', '2', '24', '27', '20', '10', '21']\n",
      "/var/folders/1p/_mmx_n854bl5ytvfkg4h377m0000gn/T/ipykernel_2776/877282191.py:33: SettingWithCopyWarning: \n",
      "A value is trying to be set on a copy of a slice from a DataFrame.\n",
      "Try using .loc[row_indexer,col_indexer] = value instead\n",
      "\n",
      "See the caveats in the documentation: https://pandas.pydata.org/pandas-docs/stable/user_guide/indexing.html#returning-a-view-versus-a-copy\n",
      "  quali_sessions[\"GreenLightCount\"] = (quali_sessions[\"Message\"].str.contains(\"GREEN LIGHT\")\n",
      "/var/folders/1p/_mmx_n854bl5ytvfkg4h377m0000gn/T/ipykernel_2776/3747660080.py:36: DeprecationWarning: DataFrameGroupBy.apply operated on the grouping columns. This behavior is deprecated, and in a future version of pandas the grouping columns will be excluded from the operation. Either pass `include_groups=False` to exclude the groupings or explicitly select the grouping columns after groupby to silence this warning.\n",
      "  df = df.groupby(\"QualiSession\", group_keys=False).apply(update_rankings)\n",
      "core           INFO \tLoading data for Miami Grand Prix - Qualifying [v3.4.3]\n",
      "req            INFO \tUsing cached data for session_info\n",
      "req            INFO \tUsing cached data for driver_info\n"
     ]
    },
    {
     "name": "stdout",
     "output_type": "stream",
     "text": [
      "2023 Miami Grand Prix\n"
     ]
    },
    {
     "name": "stderr",
     "output_type": "stream",
     "text": [
      "req            INFO \tUsing cached data for session_status_data\n",
      "req            INFO \tUsing cached data for track_status_data\n",
      "req            INFO \tUsing cached data for _extended_timing_data\n",
      "req            INFO \tUsing cached data for timing_app_data\n",
      "core           INFO \tProcessing timing data...\n",
      "req            INFO \tUsing cached data for car_data\n",
      "req            INFO \tUsing cached data for position_data\n",
      "req            INFO \tUsing cached data for weather_data\n",
      "req            INFO \tUsing cached data for race_control_messages\n",
      "core           INFO \tFinished loading data for 20 drivers: ['11', '14', '55', '20', '10', '63', '16', '31', '1', '77', '23', '27', '44', '24', '21', '4', '22', '18', '81', '2']\n",
      "/var/folders/1p/_mmx_n854bl5ytvfkg4h377m0000gn/T/ipykernel_2776/877282191.py:33: SettingWithCopyWarning: \n",
      "A value is trying to be set on a copy of a slice from a DataFrame.\n",
      "Try using .loc[row_indexer,col_indexer] = value instead\n",
      "\n",
      "See the caveats in the documentation: https://pandas.pydata.org/pandas-docs/stable/user_guide/indexing.html#returning-a-view-versus-a-copy\n",
      "  quali_sessions[\"GreenLightCount\"] = (quali_sessions[\"Message\"].str.contains(\"GREEN LIGHT\")\n",
      "/var/folders/1p/_mmx_n854bl5ytvfkg4h377m0000gn/T/ipykernel_2776/3747660080.py:36: DeprecationWarning: DataFrameGroupBy.apply operated on the grouping columns. This behavior is deprecated, and in a future version of pandas the grouping columns will be excluded from the operation. Either pass `include_groups=False` to exclude the groupings or explicitly select the grouping columns after groupby to silence this warning.\n",
      "  df = df.groupby(\"QualiSession\", group_keys=False).apply(update_rankings)\n",
      "core           INFO \tLoading data for Monaco Grand Prix - Qualifying [v3.4.3]\n",
      "req            INFO \tUsing cached data for session_info\n",
      "req            INFO \tUsing cached data for driver_info\n"
     ]
    },
    {
     "name": "stdout",
     "output_type": "stream",
     "text": [
      "2023 Monaco Grand Prix\n"
     ]
    },
    {
     "name": "stderr",
     "output_type": "stream",
     "text": [
      "req            INFO \tUsing cached data for session_status_data\n",
      "req            INFO \tUsing cached data for track_status_data\n",
      "req            INFO \tUsing cached data for _extended_timing_data\n",
      "req            INFO \tUsing cached data for timing_app_data\n",
      "core           INFO \tProcessing timing data...\n",
      "req            INFO \tUsing cached data for car_data\n",
      "req            INFO \tUsing cached data for position_data\n",
      "req            INFO \tUsing cached data for weather_data\n",
      "req            INFO \tUsing cached data for race_control_messages\n",
      "core           INFO \tFinished loading data for 20 drivers: ['1', '14', '16', '31', '55', '44', '10', '63', '22', '4', '81', '21', '23', '18', '77', '2', '20', '27', '24', '11']\n",
      "/var/folders/1p/_mmx_n854bl5ytvfkg4h377m0000gn/T/ipykernel_2776/877282191.py:33: SettingWithCopyWarning: \n",
      "A value is trying to be set on a copy of a slice from a DataFrame.\n",
      "Try using .loc[row_indexer,col_indexer] = value instead\n",
      "\n",
      "See the caveats in the documentation: https://pandas.pydata.org/pandas-docs/stable/user_guide/indexing.html#returning-a-view-versus-a-copy\n",
      "  quali_sessions[\"GreenLightCount\"] = (quali_sessions[\"Message\"].str.contains(\"GREEN LIGHT\")\n",
      "/var/folders/1p/_mmx_n854bl5ytvfkg4h377m0000gn/T/ipykernel_2776/3747660080.py:36: DeprecationWarning: DataFrameGroupBy.apply operated on the grouping columns. This behavior is deprecated, and in a future version of pandas the grouping columns will be excluded from the operation. Either pass `include_groups=False` to exclude the groupings or explicitly select the grouping columns after groupby to silence this warning.\n",
      "  df = df.groupby(\"QualiSession\", group_keys=False).apply(update_rankings)\n",
      "core           INFO \tLoading data for Spanish Grand Prix - Qualifying [v3.4.3]\n",
      "req            INFO \tUsing cached data for session_info\n",
      "req            INFO \tUsing cached data for driver_info\n"
     ]
    },
    {
     "name": "stdout",
     "output_type": "stream",
     "text": [
      "2023 Spanish Grand Prix\n"
     ]
    },
    {
     "name": "stderr",
     "output_type": "stream",
     "text": [
      "req            INFO \tUsing cached data for session_status_data\n",
      "req            INFO \tUsing cached data for track_status_data\n",
      "req            INFO \tUsing cached data for _extended_timing_data\n",
      "req            INFO \tUsing cached data for timing_app_data\n",
      "core           INFO \tProcessing timing data...\n",
      "req            INFO \tUsing cached data for car_data\n",
      "req            INFO \tUsing cached data for position_data\n",
      "req            INFO \tUsing cached data for weather_data\n",
      "req            INFO \tUsing cached data for race_control_messages\n",
      "core           INFO \tFinished loading data for 20 drivers: ['1', '55', '4', '10', '44', '18', '31', '27', '14', '81', '11', '63', '24', '21', '22', '77', '20', '23', '16', '2']\n",
      "/var/folders/1p/_mmx_n854bl5ytvfkg4h377m0000gn/T/ipykernel_2776/877282191.py:33: SettingWithCopyWarning: \n",
      "A value is trying to be set on a copy of a slice from a DataFrame.\n",
      "Try using .loc[row_indexer,col_indexer] = value instead\n",
      "\n",
      "See the caveats in the documentation: https://pandas.pydata.org/pandas-docs/stable/user_guide/indexing.html#returning-a-view-versus-a-copy\n",
      "  quali_sessions[\"GreenLightCount\"] = (quali_sessions[\"Message\"].str.contains(\"GREEN LIGHT\")\n",
      "/var/folders/1p/_mmx_n854bl5ytvfkg4h377m0000gn/T/ipykernel_2776/3747660080.py:36: DeprecationWarning: DataFrameGroupBy.apply operated on the grouping columns. This behavior is deprecated, and in a future version of pandas the grouping columns will be excluded from the operation. Either pass `include_groups=False` to exclude the groupings or explicitly select the grouping columns after groupby to silence this warning.\n",
      "  df = df.groupby(\"QualiSession\", group_keys=False).apply(update_rankings)\n",
      "core           INFO \tLoading data for Canadian Grand Prix - Qualifying [v3.4.3]\n",
      "req            INFO \tUsing cached data for session_info\n",
      "req            INFO \tUsing cached data for driver_info\n"
     ]
    },
    {
     "name": "stdout",
     "output_type": "stream",
     "text": [
      "2023 Canadian Grand Prix\n"
     ]
    },
    {
     "name": "stderr",
     "output_type": "stream",
     "text": [
      "req            INFO \tUsing cached data for session_status_data\n",
      "req            INFO \tUsing cached data for track_status_data\n",
      "req            INFO \tUsing cached data for _extended_timing_data\n",
      "req            INFO \tUsing cached data for timing_app_data\n",
      "core           INFO \tProcessing timing data...\n",
      "core        WARNING \tDriver  1: Lap timing integrity check failed for 1 lap(s)\n",
      "core        WARNING \tDriver 55: Lap timing integrity check failed for 1 lap(s)\n",
      "core        WARNING \tDriver 11: Lap timing integrity check failed for 1 lap(s)\n",
      "core        WARNING \tDriver  2: Lap timing integrity check failed for 1 lap(s)\n",
      "req            INFO \tUsing cached data for car_data\n",
      "req            INFO \tUsing cached data for position_data\n",
      "req            INFO \tUsing cached data for weather_data\n",
      "req            INFO \tUsing cached data for race_control_messages\n",
      "core           INFO \tFinished loading data for 20 drivers: ['1', '27', '14', '44', '63', '31', '4', '55', '81', '23', '16', '11', '18', '20', '77', '22', '10', '21', '2', '24']\n",
      "/var/folders/1p/_mmx_n854bl5ytvfkg4h377m0000gn/T/ipykernel_2776/877282191.py:33: SettingWithCopyWarning: \n",
      "A value is trying to be set on a copy of a slice from a DataFrame.\n",
      "Try using .loc[row_indexer,col_indexer] = value instead\n",
      "\n",
      "See the caveats in the documentation: https://pandas.pydata.org/pandas-docs/stable/user_guide/indexing.html#returning-a-view-versus-a-copy\n",
      "  quali_sessions[\"GreenLightCount\"] = (quali_sessions[\"Message\"].str.contains(\"GREEN LIGHT\")\n",
      "/var/folders/1p/_mmx_n854bl5ytvfkg4h377m0000gn/T/ipykernel_2776/3747660080.py:36: DeprecationWarning: DataFrameGroupBy.apply operated on the grouping columns. This behavior is deprecated, and in a future version of pandas the grouping columns will be excluded from the operation. Either pass `include_groups=False` to exclude the groupings or explicitly select the grouping columns after groupby to silence this warning.\n",
      "  df = df.groupby(\"QualiSession\", group_keys=False).apply(update_rankings)\n",
      "core           INFO \tLoading data for Austrian Grand Prix - Qualifying [v3.4.3]\n",
      "req            INFO \tUsing cached data for session_info\n",
      "req            INFO \tUsing cached data for driver_info\n"
     ]
    },
    {
     "name": "stdout",
     "output_type": "stream",
     "text": [
      "2023 Austrian Grand Prix\n"
     ]
    },
    {
     "name": "stderr",
     "output_type": "stream",
     "text": [
      "req            INFO \tUsing cached data for session_status_data\n",
      "req            INFO \tUsing cached data for track_status_data\n",
      "req            INFO \tUsing cached data for _extended_timing_data\n",
      "req            INFO \tUsing cached data for timing_app_data\n",
      "core           INFO \tProcessing timing data...\n",
      "req            INFO \tUsing cached data for car_data\n",
      "req            INFO \tUsing cached data for position_data\n",
      "req            INFO \tUsing cached data for weather_data\n",
      "req            INFO \tUsing cached data for race_control_messages\n",
      "core           INFO \tFinished loading data for 20 drivers: ['1', '16', '55', '4', '44', '18', '14', '27', '10', '23', '63', '31', '81', '77', '11', '22', '24', '2', '20', '21']\n",
      "/var/folders/1p/_mmx_n854bl5ytvfkg4h377m0000gn/T/ipykernel_2776/877282191.py:33: SettingWithCopyWarning: \n",
      "A value is trying to be set on a copy of a slice from a DataFrame.\n",
      "Try using .loc[row_indexer,col_indexer] = value instead\n",
      "\n",
      "See the caveats in the documentation: https://pandas.pydata.org/pandas-docs/stable/user_guide/indexing.html#returning-a-view-versus-a-copy\n",
      "  quali_sessions[\"GreenLightCount\"] = (quali_sessions[\"Message\"].str.contains(\"GREEN LIGHT\")\n",
      "/var/folders/1p/_mmx_n854bl5ytvfkg4h377m0000gn/T/ipykernel_2776/3747660080.py:36: DeprecationWarning: DataFrameGroupBy.apply operated on the grouping columns. This behavior is deprecated, and in a future version of pandas the grouping columns will be excluded from the operation. Either pass `include_groups=False` to exclude the groupings or explicitly select the grouping columns after groupby to silence this warning.\n",
      "  df = df.groupby(\"QualiSession\", group_keys=False).apply(update_rankings)\n",
      "core           INFO \tLoading data for British Grand Prix - Qualifying [v3.4.3]\n",
      "req            INFO \tUsing cached data for session_info\n",
      "req            INFO \tUsing cached data for driver_info\n"
     ]
    },
    {
     "name": "stdout",
     "output_type": "stream",
     "text": [
      "2023 British Grand Prix\n"
     ]
    },
    {
     "name": "stderr",
     "output_type": "stream",
     "text": [
      "req            INFO \tUsing cached data for session_status_data\n",
      "req            INFO \tUsing cached data for track_status_data\n",
      "req            INFO \tUsing cached data for _extended_timing_data\n",
      "req            INFO \tUsing cached data for timing_app_data\n",
      "core           INFO \tProcessing timing data...\n",
      "req            INFO \tUsing cached data for car_data\n",
      "req            INFO \tUsing cached data for position_data\n",
      "req            INFO \tUsing cached data for weather_data\n",
      "req            INFO \tUsing cached data for race_control_messages\n",
      "core           INFO \tFinished loading data for 20 drivers: ['1', '4', '81', '16', '55', '63', '44', '23', '14', '10', '27', '18', '31', '2', '77', '11', '22', '24', '21', '20']\n",
      "/var/folders/1p/_mmx_n854bl5ytvfkg4h377m0000gn/T/ipykernel_2776/877282191.py:33: SettingWithCopyWarning: \n",
      "A value is trying to be set on a copy of a slice from a DataFrame.\n",
      "Try using .loc[row_indexer,col_indexer] = value instead\n",
      "\n",
      "See the caveats in the documentation: https://pandas.pydata.org/pandas-docs/stable/user_guide/indexing.html#returning-a-view-versus-a-copy\n",
      "  quali_sessions[\"GreenLightCount\"] = (quali_sessions[\"Message\"].str.contains(\"GREEN LIGHT\")\n",
      "/var/folders/1p/_mmx_n854bl5ytvfkg4h377m0000gn/T/ipykernel_2776/3747660080.py:36: DeprecationWarning: DataFrameGroupBy.apply operated on the grouping columns. This behavior is deprecated, and in a future version of pandas the grouping columns will be excluded from the operation. Either pass `include_groups=False` to exclude the groupings or explicitly select the grouping columns after groupby to silence this warning.\n",
      "  df = df.groupby(\"QualiSession\", group_keys=False).apply(update_rankings)\n",
      "core           INFO \tLoading data for Hungarian Grand Prix - Qualifying [v3.4.3]\n",
      "req            INFO \tUsing cached data for session_info\n",
      "req            INFO \tUsing cached data for driver_info\n"
     ]
    },
    {
     "name": "stdout",
     "output_type": "stream",
     "text": [
      "2023 Hungarian Grand Prix\n"
     ]
    },
    {
     "name": "stderr",
     "output_type": "stream",
     "text": [
      "req            INFO \tUsing cached data for session_status_data\n",
      "req            INFO \tUsing cached data for track_status_data\n",
      "req            INFO \tUsing cached data for _extended_timing_data\n",
      "req            INFO \tUsing cached data for timing_app_data\n",
      "core           INFO \tProcessing timing data...\n",
      "req            INFO \tUsing cached data for car_data\n",
      "req            INFO \tUsing cached data for position_data\n",
      "req            INFO \tUsing cached data for weather_data\n",
      "req            INFO \tUsing cached data for race_control_messages\n",
      "core           INFO \tFinished loading data for 20 drivers: ['44', '1', '4', '81', '24', '16', '77', '14', '11', '27', '55', '31', '3', '18', '10', '23', '22', '63', '20', '2']\n",
      "/var/folders/1p/_mmx_n854bl5ytvfkg4h377m0000gn/T/ipykernel_2776/877282191.py:33: SettingWithCopyWarning: \n",
      "A value is trying to be set on a copy of a slice from a DataFrame.\n",
      "Try using .loc[row_indexer,col_indexer] = value instead\n",
      "\n",
      "See the caveats in the documentation: https://pandas.pydata.org/pandas-docs/stable/user_guide/indexing.html#returning-a-view-versus-a-copy\n",
      "  quali_sessions[\"GreenLightCount\"] = (quali_sessions[\"Message\"].str.contains(\"GREEN LIGHT\")\n",
      "/var/folders/1p/_mmx_n854bl5ytvfkg4h377m0000gn/T/ipykernel_2776/3747660080.py:36: DeprecationWarning: DataFrameGroupBy.apply operated on the grouping columns. This behavior is deprecated, and in a future version of pandas the grouping columns will be excluded from the operation. Either pass `include_groups=False` to exclude the groupings or explicitly select the grouping columns after groupby to silence this warning.\n",
      "  df = df.groupby(\"QualiSession\", group_keys=False).apply(update_rankings)\n",
      "core           INFO \tLoading data for Belgian Grand Prix - Qualifying [v3.4.3]\n",
      "req            INFO \tUsing cached data for session_info\n",
      "req            INFO \tUsing cached data for driver_info\n"
     ]
    },
    {
     "name": "stdout",
     "output_type": "stream",
     "text": [
      "2023 Belgian Grand Prix\n"
     ]
    },
    {
     "name": "stderr",
     "output_type": "stream",
     "text": [
      "req            INFO \tUsing cached data for session_status_data\n",
      "req            INFO \tUsing cached data for track_status_data\n",
      "req            INFO \tUsing cached data for _extended_timing_data\n",
      "req            INFO \tUsing cached data for timing_app_data\n",
      "core           INFO \tProcessing timing data...\n",
      "req            INFO \tUsing cached data for car_data\n",
      "req            INFO \tUsing cached data for position_data\n",
      "req            INFO \tUsing cached data for weather_data\n",
      "req            INFO \tUsing cached data for race_control_messages\n",
      "core           INFO \tFinished loading data for 20 drivers: ['1', '16', '11', '44', '55', '81', '4', '63', '14', '18', '22', '10', '20', '77', '31', '23', '24', '2', '3', '27']\n",
      "/var/folders/1p/_mmx_n854bl5ytvfkg4h377m0000gn/T/ipykernel_2776/877282191.py:33: SettingWithCopyWarning: \n",
      "A value is trying to be set on a copy of a slice from a DataFrame.\n",
      "Try using .loc[row_indexer,col_indexer] = value instead\n",
      "\n",
      "See the caveats in the documentation: https://pandas.pydata.org/pandas-docs/stable/user_guide/indexing.html#returning-a-view-versus-a-copy\n",
      "  quali_sessions[\"GreenLightCount\"] = (quali_sessions[\"Message\"].str.contains(\"GREEN LIGHT\")\n",
      "/var/folders/1p/_mmx_n854bl5ytvfkg4h377m0000gn/T/ipykernel_2776/3747660080.py:36: DeprecationWarning: DataFrameGroupBy.apply operated on the grouping columns. This behavior is deprecated, and in a future version of pandas the grouping columns will be excluded from the operation. Either pass `include_groups=False` to exclude the groupings or explicitly select the grouping columns after groupby to silence this warning.\n",
      "  df = df.groupby(\"QualiSession\", group_keys=False).apply(update_rankings)\n",
      "core           INFO \tLoading data for Dutch Grand Prix - Qualifying [v3.4.3]\n",
      "req            INFO \tUsing cached data for session_info\n",
      "req            INFO \tUsing cached data for driver_info\n"
     ]
    },
    {
     "name": "stdout",
     "output_type": "stream",
     "text": [
      "2023 Dutch Grand Prix\n"
     ]
    },
    {
     "name": "stderr",
     "output_type": "stream",
     "text": [
      "req            INFO \tUsing cached data for session_status_data\n",
      "req            INFO \tUsing cached data for track_status_data\n",
      "req            INFO \tUsing cached data for _extended_timing_data\n",
      "req            INFO \tUsing cached data for timing_app_data\n",
      "core           INFO \tProcessing timing data...\n",
      "req            INFO \tUsing cached data for car_data\n",
      "req            INFO \tUsing cached data for position_data\n",
      "req            INFO \tUsing cached data for weather_data\n",
      "req            INFO \tUsing cached data for race_control_messages\n",
      "core           INFO \tFinished loading data for 20 drivers: ['1', '4', '63', '23', '14', '55', '11', '81', '16', '2', '18', '10', '44', '22', '27', '24', '31', '20', '77', '40']\n",
      "/var/folders/1p/_mmx_n854bl5ytvfkg4h377m0000gn/T/ipykernel_2776/877282191.py:33: SettingWithCopyWarning: \n",
      "A value is trying to be set on a copy of a slice from a DataFrame.\n",
      "Try using .loc[row_indexer,col_indexer] = value instead\n",
      "\n",
      "See the caveats in the documentation: https://pandas.pydata.org/pandas-docs/stable/user_guide/indexing.html#returning-a-view-versus-a-copy\n",
      "  quali_sessions[\"GreenLightCount\"] = (quali_sessions[\"Message\"].str.contains(\"GREEN LIGHT\")\n",
      "/var/folders/1p/_mmx_n854bl5ytvfkg4h377m0000gn/T/ipykernel_2776/3747660080.py:36: DeprecationWarning: DataFrameGroupBy.apply operated on the grouping columns. This behavior is deprecated, and in a future version of pandas the grouping columns will be excluded from the operation. Either pass `include_groups=False` to exclude the groupings or explicitly select the grouping columns after groupby to silence this warning.\n",
      "  df = df.groupby(\"QualiSession\", group_keys=False).apply(update_rankings)\n",
      "core           INFO \tLoading data for Italian Grand Prix - Qualifying [v3.4.3]\n",
      "req            INFO \tUsing cached data for session_info\n",
      "req            INFO \tUsing cached data for driver_info\n"
     ]
    },
    {
     "name": "stdout",
     "output_type": "stream",
     "text": [
      "2023 Italian Grand Prix\n"
     ]
    },
    {
     "name": "stderr",
     "output_type": "stream",
     "text": [
      "req            INFO \tUsing cached data for session_status_data\n",
      "req            INFO \tUsing cached data for track_status_data\n",
      "req            INFO \tUsing cached data for _extended_timing_data\n",
      "req            INFO \tUsing cached data for timing_app_data\n",
      "core           INFO \tProcessing timing data...\n",
      "req            INFO \tUsing cached data for car_data\n",
      "req            INFO \tUsing cached data for position_data\n",
      "req            INFO \tUsing cached data for weather_data\n",
      "req            INFO \tUsing cached data for race_control_messages\n",
      "core           INFO \tFinished loading data for 20 drivers: ['55', '1', '16', '63', '11', '23', '81', '44', '4', '14', '22', '40', '27', '77', '2', '24', '10', '31', '20', '18']\n",
      "/var/folders/1p/_mmx_n854bl5ytvfkg4h377m0000gn/T/ipykernel_2776/877282191.py:33: SettingWithCopyWarning: \n",
      "A value is trying to be set on a copy of a slice from a DataFrame.\n",
      "Try using .loc[row_indexer,col_indexer] = value instead\n",
      "\n",
      "See the caveats in the documentation: https://pandas.pydata.org/pandas-docs/stable/user_guide/indexing.html#returning-a-view-versus-a-copy\n",
      "  quali_sessions[\"GreenLightCount\"] = (quali_sessions[\"Message\"].str.contains(\"GREEN LIGHT\")\n",
      "/var/folders/1p/_mmx_n854bl5ytvfkg4h377m0000gn/T/ipykernel_2776/3747660080.py:36: DeprecationWarning: DataFrameGroupBy.apply operated on the grouping columns. This behavior is deprecated, and in a future version of pandas the grouping columns will be excluded from the operation. Either pass `include_groups=False` to exclude the groupings or explicitly select the grouping columns after groupby to silence this warning.\n",
      "  df = df.groupby(\"QualiSession\", group_keys=False).apply(update_rankings)\n",
      "core           INFO \tLoading data for Singapore Grand Prix - Qualifying [v3.4.3]\n",
      "req            INFO \tUsing cached data for session_info\n",
      "req            INFO \tUsing cached data for driver_info\n"
     ]
    },
    {
     "name": "stdout",
     "output_type": "stream",
     "text": [
      "2023 Singapore Grand Prix\n"
     ]
    },
    {
     "name": "stderr",
     "output_type": "stream",
     "text": [
      "req            INFO \tUsing cached data for session_status_data\n",
      "req            INFO \tUsing cached data for track_status_data\n",
      "req            INFO \tUsing cached data for _extended_timing_data\n",
      "req            INFO \tUsing cached data for timing_app_data\n",
      "core           INFO \tProcessing timing data...\n",
      "req            INFO \tUsing cached data for car_data\n",
      "req            INFO \tUsing cached data for position_data\n",
      "req            INFO \tUsing cached data for weather_data\n",
      "req            INFO \tUsing cached data for race_control_messages\n",
      "core           INFO \tFinished loading data for 20 drivers: ['55', '63', '16', '4', '44', '20', '14', '31', '27', '40', '1', '10', '11', '23', '22', '77', '81', '2', '24', '18']\n",
      "/var/folders/1p/_mmx_n854bl5ytvfkg4h377m0000gn/T/ipykernel_2776/877282191.py:33: SettingWithCopyWarning: \n",
      "A value is trying to be set on a copy of a slice from a DataFrame.\n",
      "Try using .loc[row_indexer,col_indexer] = value instead\n",
      "\n",
      "See the caveats in the documentation: https://pandas.pydata.org/pandas-docs/stable/user_guide/indexing.html#returning-a-view-versus-a-copy\n",
      "  quali_sessions[\"GreenLightCount\"] = (quali_sessions[\"Message\"].str.contains(\"GREEN LIGHT\")\n",
      "/var/folders/1p/_mmx_n854bl5ytvfkg4h377m0000gn/T/ipykernel_2776/3747660080.py:36: DeprecationWarning: DataFrameGroupBy.apply operated on the grouping columns. This behavior is deprecated, and in a future version of pandas the grouping columns will be excluded from the operation. Either pass `include_groups=False` to exclude the groupings or explicitly select the grouping columns after groupby to silence this warning.\n",
      "  df = df.groupby(\"QualiSession\", group_keys=False).apply(update_rankings)\n",
      "core           INFO \tLoading data for Japanese Grand Prix - Qualifying [v3.4.3]\n",
      "req            INFO \tUsing cached data for session_info\n",
      "req            INFO \tUsing cached data for driver_info\n"
     ]
    },
    {
     "name": "stdout",
     "output_type": "stream",
     "text": [
      "2023 Japanese Grand Prix\n"
     ]
    },
    {
     "name": "stderr",
     "output_type": "stream",
     "text": [
      "req            INFO \tUsing cached data for session_status_data\n",
      "req            INFO \tUsing cached data for track_status_data\n",
      "req            INFO \tUsing cached data for _extended_timing_data\n",
      "req            INFO \tUsing cached data for timing_app_data\n",
      "core           INFO \tProcessing timing data...\n",
      "req            INFO \tUsing cached data for car_data\n",
      "req            INFO \tUsing cached data for position_data\n",
      "req            INFO \tUsing cached data for weather_data\n",
      "req            INFO \tUsing cached data for race_control_messages\n",
      "core           INFO \tFinished loading data for 20 drivers: ['1', '81', '4', '16', '11', '55', '44', '63', '22', '14', '40', '10', '23', '31', '20', '77', '18', '27', '24', '2']\n",
      "/var/folders/1p/_mmx_n854bl5ytvfkg4h377m0000gn/T/ipykernel_2776/877282191.py:33: SettingWithCopyWarning: \n",
      "A value is trying to be set on a copy of a slice from a DataFrame.\n",
      "Try using .loc[row_indexer,col_indexer] = value instead\n",
      "\n",
      "See the caveats in the documentation: https://pandas.pydata.org/pandas-docs/stable/user_guide/indexing.html#returning-a-view-versus-a-copy\n",
      "  quali_sessions[\"GreenLightCount\"] = (quali_sessions[\"Message\"].str.contains(\"GREEN LIGHT\")\n",
      "/var/folders/1p/_mmx_n854bl5ytvfkg4h377m0000gn/T/ipykernel_2776/3747660080.py:36: DeprecationWarning: DataFrameGroupBy.apply operated on the grouping columns. This behavior is deprecated, and in a future version of pandas the grouping columns will be excluded from the operation. Either pass `include_groups=False` to exclude the groupings or explicitly select the grouping columns after groupby to silence this warning.\n",
      "  df = df.groupby(\"QualiSession\", group_keys=False).apply(update_rankings)\n",
      "events      WARNING \tCorrecting user input 'Qatar Grand Prix' to 'Qatar Grand Prix'\n",
      "core           INFO \tLoading data for Qatar Grand Prix - Qualifying [v3.4.3]\n",
      "req            INFO \tUsing cached data for session_info\n",
      "req            INFO \tUsing cached data for driver_info\n"
     ]
    },
    {
     "name": "stdout",
     "output_type": "stream",
     "text": [
      "2023 Qatar Grand Prix\n"
     ]
    },
    {
     "name": "stderr",
     "output_type": "stream",
     "text": [
      "req            INFO \tUsing cached data for session_status_data\n",
      "req            INFO \tUsing cached data for track_status_data\n",
      "req            INFO \tUsing cached data for _extended_timing_data\n",
      "req            INFO \tUsing cached data for timing_app_data\n",
      "core           INFO \tProcessing timing data...\n",
      "req            INFO \tUsing cached data for car_data\n",
      "req            INFO \tUsing cached data for position_data\n",
      "req            INFO \tUsing cached data for weather_data\n",
      "req            INFO \tUsing cached data for race_control_messages\n",
      "core           INFO \tFinished loading data for 20 drivers: ['1', '63', '44', '14', '16', '81', '10', '31', '77', '4', '22', '55', '11', '23', '27', '2', '18', '40', '20', '24']\n",
      "/var/folders/1p/_mmx_n854bl5ytvfkg4h377m0000gn/T/ipykernel_2776/877282191.py:33: SettingWithCopyWarning: \n",
      "A value is trying to be set on a copy of a slice from a DataFrame.\n",
      "Try using .loc[row_indexer,col_indexer] = value instead\n",
      "\n",
      "See the caveats in the documentation: https://pandas.pydata.org/pandas-docs/stable/user_guide/indexing.html#returning-a-view-versus-a-copy\n",
      "  quali_sessions[\"GreenLightCount\"] = (quali_sessions[\"Message\"].str.contains(\"GREEN LIGHT\")\n",
      "/var/folders/1p/_mmx_n854bl5ytvfkg4h377m0000gn/T/ipykernel_2776/3747660080.py:36: DeprecationWarning: DataFrameGroupBy.apply operated on the grouping columns. This behavior is deprecated, and in a future version of pandas the grouping columns will be excluded from the operation. Either pass `include_groups=False` to exclude the groupings or explicitly select the grouping columns after groupby to silence this warning.\n",
      "  df = df.groupby(\"QualiSession\", group_keys=False).apply(update_rankings)\n",
      "events      WARNING \tCorrecting user input 'United States Grand Prix' to 'United States Grand Prix'\n",
      "core           INFO \tLoading data for United States Grand Prix - Qualifying [v3.4.3]\n",
      "req            INFO \tUsing cached data for session_info\n",
      "req            INFO \tUsing cached data for driver_info\n"
     ]
    },
    {
     "name": "stdout",
     "output_type": "stream",
     "text": [
      "2023 United States Grand Prix\n"
     ]
    },
    {
     "name": "stderr",
     "output_type": "stream",
     "text": [
      "req            INFO \tUsing cached data for session_status_data\n",
      "req            INFO \tUsing cached data for track_status_data\n",
      "req            INFO \tUsing cached data for _extended_timing_data\n",
      "req            INFO \tUsing cached data for timing_app_data\n",
      "core           INFO \tProcessing timing data...\n",
      "req            INFO \tUsing cached data for car_data\n",
      "req            INFO \tUsing cached data for position_data\n",
      "req            INFO \tUsing cached data for weather_data\n",
      "req            INFO \tUsing cached data for race_control_messages\n",
      "core           INFO \tFinished loading data for 20 drivers: ['16', '4', '44', '55', '63', '1', '10', '31', '11', '81', '22', '24', '77', '20', '3', '27', '14', '23', '18', '2']\n",
      "/var/folders/1p/_mmx_n854bl5ytvfkg4h377m0000gn/T/ipykernel_2776/877282191.py:33: SettingWithCopyWarning: \n",
      "A value is trying to be set on a copy of a slice from a DataFrame.\n",
      "Try using .loc[row_indexer,col_indexer] = value instead\n",
      "\n",
      "See the caveats in the documentation: https://pandas.pydata.org/pandas-docs/stable/user_guide/indexing.html#returning-a-view-versus-a-copy\n",
      "  quali_sessions[\"GreenLightCount\"] = (quali_sessions[\"Message\"].str.contains(\"GREEN LIGHT\")\n",
      "/var/folders/1p/_mmx_n854bl5ytvfkg4h377m0000gn/T/ipykernel_2776/3747660080.py:36: DeprecationWarning: DataFrameGroupBy.apply operated on the grouping columns. This behavior is deprecated, and in a future version of pandas the grouping columns will be excluded from the operation. Either pass `include_groups=False` to exclude the groupings or explicitly select the grouping columns after groupby to silence this warning.\n",
      "  df = df.groupby(\"QualiSession\", group_keys=False).apply(update_rankings)\n",
      "core           INFO \tLoading data for Mexico City Grand Prix - Qualifying [v3.4.3]\n",
      "req            INFO \tUsing cached data for session_info\n",
      "req            INFO \tUsing cached data for driver_info\n"
     ]
    },
    {
     "name": "stdout",
     "output_type": "stream",
     "text": [
      "2023 Mexico City Grand Prix\n"
     ]
    },
    {
     "name": "stderr",
     "output_type": "stream",
     "text": [
      "req            INFO \tUsing cached data for session_status_data\n",
      "req            INFO \tUsing cached data for track_status_data\n",
      "req            INFO \tUsing cached data for _extended_timing_data\n",
      "req            INFO \tUsing cached data for timing_app_data\n",
      "core           INFO \tProcessing timing data...\n",
      "req            INFO \tUsing cached data for car_data\n",
      "req            INFO \tUsing cached data for position_data\n",
      "req            INFO \tUsing cached data for weather_data\n",
      "req            INFO \tUsing cached data for race_control_messages\n",
      "core           INFO \tFinished loading data for 20 drivers: ['16', '55', '1', '3', '11', '44', '81', '63', '77', '24', '10', '27', '14', '23', '22', '31', '20', '18', '4', '2']\n",
      "/var/folders/1p/_mmx_n854bl5ytvfkg4h377m0000gn/T/ipykernel_2776/877282191.py:33: SettingWithCopyWarning: \n",
      "A value is trying to be set on a copy of a slice from a DataFrame.\n",
      "Try using .loc[row_indexer,col_indexer] = value instead\n",
      "\n",
      "See the caveats in the documentation: https://pandas.pydata.org/pandas-docs/stable/user_guide/indexing.html#returning-a-view-versus-a-copy\n",
      "  quali_sessions[\"GreenLightCount\"] = (quali_sessions[\"Message\"].str.contains(\"GREEN LIGHT\")\n",
      "/var/folders/1p/_mmx_n854bl5ytvfkg4h377m0000gn/T/ipykernel_2776/3747660080.py:36: DeprecationWarning: DataFrameGroupBy.apply operated on the grouping columns. This behavior is deprecated, and in a future version of pandas the grouping columns will be excluded from the operation. Either pass `include_groups=False` to exclude the groupings or explicitly select the grouping columns after groupby to silence this warning.\n",
      "  df = df.groupby(\"QualiSession\", group_keys=False).apply(update_rankings)\n",
      "core           INFO \tLoading data for São Paulo Grand Prix - Qualifying [v3.4.3]\n",
      "req            INFO \tUsing cached data for session_info\n",
      "req            INFO \tUsing cached data for driver_info\n"
     ]
    },
    {
     "name": "stdout",
     "output_type": "stream",
     "text": [
      "2023 São Paulo Grand Prix\n"
     ]
    },
    {
     "name": "stderr",
     "output_type": "stream",
     "text": [
      "req            INFO \tUsing cached data for session_status_data\n",
      "req            INFO \tUsing cached data for track_status_data\n",
      "req            INFO \tUsing cached data for _extended_timing_data\n",
      "req            INFO \tUsing cached data for timing_app_data\n",
      "core           INFO \tProcessing timing data...\n",
      "req            INFO \tUsing cached data for car_data\n",
      "req            INFO \tUsing cached data for position_data\n",
      "req            INFO \tUsing cached data for weather_data\n",
      "req            INFO \tUsing cached data for race_control_messages\n",
      "core           INFO \tFinished loading data for 20 drivers: ['1', '16', '18', '14', '44', '63', '4', '55', '11', '81', '27', '31', '10', '20', '23', '22', '3', '77', '2', '24']\n",
      "/var/folders/1p/_mmx_n854bl5ytvfkg4h377m0000gn/T/ipykernel_2776/877282191.py:33: SettingWithCopyWarning: \n",
      "A value is trying to be set on a copy of a slice from a DataFrame.\n",
      "Try using .loc[row_indexer,col_indexer] = value instead\n",
      "\n",
      "See the caveats in the documentation: https://pandas.pydata.org/pandas-docs/stable/user_guide/indexing.html#returning-a-view-versus-a-copy\n",
      "  quali_sessions[\"GreenLightCount\"] = (quali_sessions[\"Message\"].str.contains(\"GREEN LIGHT\")\n",
      "/var/folders/1p/_mmx_n854bl5ytvfkg4h377m0000gn/T/ipykernel_2776/3747660080.py:36: DeprecationWarning: DataFrameGroupBy.apply operated on the grouping columns. This behavior is deprecated, and in a future version of pandas the grouping columns will be excluded from the operation. Either pass `include_groups=False` to exclude the groupings or explicitly select the grouping columns after groupby to silence this warning.\n",
      "  df = df.groupby(\"QualiSession\", group_keys=False).apply(update_rankings)\n",
      "core           INFO \tLoading data for Las Vegas Grand Prix - Qualifying [v3.4.3]\n",
      "req            INFO \tUsing cached data for session_info\n",
      "req            INFO \tUsing cached data for driver_info\n"
     ]
    },
    {
     "name": "stdout",
     "output_type": "stream",
     "text": [
      "2023 Las Vegas Grand Prix\n"
     ]
    },
    {
     "name": "stderr",
     "output_type": "stream",
     "text": [
      "req            INFO \tUsing cached data for session_status_data\n",
      "req            INFO \tUsing cached data for track_status_data\n",
      "req            INFO \tUsing cached data for _extended_timing_data\n",
      "req            INFO \tUsing cached data for timing_app_data\n",
      "core           INFO \tProcessing timing data...\n",
      "req            INFO \tUsing cached data for car_data\n",
      "req            INFO \tUsing cached data for position_data\n",
      "req            INFO \tUsing cached data for weather_data\n",
      "req            INFO \tUsing cached data for race_control_messages\n",
      "core           INFO \tFinished loading data for 20 drivers: ['16', '55', '1', '63', '10', '23', '2', '77', '20', '14', '44', '11', '27', '18', '3', '4', '31', '24', '81', '22']\n",
      "/var/folders/1p/_mmx_n854bl5ytvfkg4h377m0000gn/T/ipykernel_2776/877282191.py:33: SettingWithCopyWarning: \n",
      "A value is trying to be set on a copy of a slice from a DataFrame.\n",
      "Try using .loc[row_indexer,col_indexer] = value instead\n",
      "\n",
      "See the caveats in the documentation: https://pandas.pydata.org/pandas-docs/stable/user_guide/indexing.html#returning-a-view-versus-a-copy\n",
      "  quali_sessions[\"GreenLightCount\"] = (quali_sessions[\"Message\"].str.contains(\"GREEN LIGHT\")\n",
      "/var/folders/1p/_mmx_n854bl5ytvfkg4h377m0000gn/T/ipykernel_2776/3747660080.py:36: DeprecationWarning: DataFrameGroupBy.apply operated on the grouping columns. This behavior is deprecated, and in a future version of pandas the grouping columns will be excluded from the operation. Either pass `include_groups=False` to exclude the groupings or explicitly select the grouping columns after groupby to silence this warning.\n",
      "  df = df.groupby(\"QualiSession\", group_keys=False).apply(update_rankings)\n",
      "core           INFO \tLoading data for Abu Dhabi Grand Prix - Qualifying [v3.4.3]\n",
      "req            INFO \tUsing cached data for session_info\n",
      "req            INFO \tUsing cached data for driver_info\n"
     ]
    },
    {
     "name": "stdout",
     "output_type": "stream",
     "text": [
      "2023 Abu Dhabi Grand Prix\n"
     ]
    },
    {
     "name": "stderr",
     "output_type": "stream",
     "text": [
      "req            INFO \tUsing cached data for session_status_data\n",
      "req            INFO \tUsing cached data for track_status_data\n",
      "req            INFO \tUsing cached data for _extended_timing_data\n",
      "req            INFO \tUsing cached data for timing_app_data\n",
      "core           INFO \tProcessing timing data...\n",
      "req            INFO \tUsing cached data for car_data\n",
      "req            INFO \tUsing cached data for position_data\n",
      "req            INFO \tUsing cached data for weather_data\n",
      "req            INFO \tUsing cached data for race_control_messages\n",
      "core           INFO \tFinished loading data for 20 drivers: ['1', '16', '81', '63', '4', '22', '14', '27', '11', '10', '44', '31', '18', '23', '3', '55', '20', '77', '24', '2']\n",
      "/var/folders/1p/_mmx_n854bl5ytvfkg4h377m0000gn/T/ipykernel_2776/877282191.py:33: SettingWithCopyWarning: \n",
      "A value is trying to be set on a copy of a slice from a DataFrame.\n",
      "Try using .loc[row_indexer,col_indexer] = value instead\n",
      "\n",
      "See the caveats in the documentation: https://pandas.pydata.org/pandas-docs/stable/user_guide/indexing.html#returning-a-view-versus-a-copy\n",
      "  quali_sessions[\"GreenLightCount\"] = (quali_sessions[\"Message\"].str.contains(\"GREEN LIGHT\")\n",
      "/var/folders/1p/_mmx_n854bl5ytvfkg4h377m0000gn/T/ipykernel_2776/3747660080.py:36: DeprecationWarning: DataFrameGroupBy.apply operated on the grouping columns. This behavior is deprecated, and in a future version of pandas the grouping columns will be excluded from the operation. Either pass `include_groups=False` to exclude the groupings or explicitly select the grouping columns after groupby to silence this warning.\n",
      "  df = df.groupby(\"QualiSession\", group_keys=False).apply(update_rankings)\n",
      "core           INFO \tLoading data for Bahrain Grand Prix - Qualifying [v3.4.3]\n",
      "req            INFO \tUsing cached data for session_info\n",
      "req            INFO \tUsing cached data for driver_info\n"
     ]
    },
    {
     "name": "stdout",
     "output_type": "stream",
     "text": [
      "2024 Bahrain Grand Prix\n"
     ]
    },
    {
     "name": "stderr",
     "output_type": "stream",
     "text": [
      "req            INFO \tUsing cached data for session_status_data\n",
      "req            INFO \tUsing cached data for track_status_data\n",
      "req            INFO \tUsing cached data for _extended_timing_data\n",
      "req            INFO \tUsing cached data for timing_app_data\n",
      "core           INFO \tProcessing timing data...\n",
      "req            INFO \tUsing cached data for car_data\n",
      "req            INFO \tUsing cached data for position_data\n",
      "req            INFO \tUsing cached data for weather_data\n",
      "req            INFO \tUsing cached data for race_control_messages\n",
      "core           INFO \tFinished loading data for 20 drivers: ['1', '16', '63', '55', '11', '14', '4', '81', '44', '27', '22', '18', '23', '3', '20', '77', '24', '2', '31', '10']\n",
      "/var/folders/1p/_mmx_n854bl5ytvfkg4h377m0000gn/T/ipykernel_2776/877282191.py:33: SettingWithCopyWarning: \n",
      "A value is trying to be set on a copy of a slice from a DataFrame.\n",
      "Try using .loc[row_indexer,col_indexer] = value instead\n",
      "\n",
      "See the caveats in the documentation: https://pandas.pydata.org/pandas-docs/stable/user_guide/indexing.html#returning-a-view-versus-a-copy\n",
      "  quali_sessions[\"GreenLightCount\"] = (quali_sessions[\"Message\"].str.contains(\"GREEN LIGHT\")\n",
      "/var/folders/1p/_mmx_n854bl5ytvfkg4h377m0000gn/T/ipykernel_2776/3747660080.py:36: DeprecationWarning: DataFrameGroupBy.apply operated on the grouping columns. This behavior is deprecated, and in a future version of pandas the grouping columns will be excluded from the operation. Either pass `include_groups=False` to exclude the groupings or explicitly select the grouping columns after groupby to silence this warning.\n",
      "  df = df.groupby(\"QualiSession\", group_keys=False).apply(update_rankings)\n",
      "core           INFO \tLoading data for Saudi Arabian Grand Prix - Qualifying [v3.4.3]\n",
      "req            INFO \tUsing cached data for session_info\n",
      "req            INFO \tUsing cached data for driver_info\n"
     ]
    },
    {
     "name": "stdout",
     "output_type": "stream",
     "text": [
      "2024 Saudi Arabian Grand Prix\n"
     ]
    },
    {
     "name": "stderr",
     "output_type": "stream",
     "text": [
      "req            INFO \tUsing cached data for session_status_data\n",
      "req            INFO \tUsing cached data for track_status_data\n",
      "req            INFO \tUsing cached data for _extended_timing_data\n",
      "req            INFO \tUsing cached data for timing_app_data\n",
      "core           INFO \tProcessing timing data...\n",
      "req            INFO \tUsing cached data for car_data\n",
      "req            INFO \tUsing cached data for position_data\n",
      "req            INFO \tUsing cached data for weather_data\n",
      "req            INFO \tUsing cached data for race_control_messages\n",
      "core           INFO \tFinished loading data for 20 drivers: ['1', '16', '11', '14', '81', '4', '63', '44', '22', '18', '38', '23', '20', '3', '27', '77', '31', '10', '2', '24']\n",
      "/var/folders/1p/_mmx_n854bl5ytvfkg4h377m0000gn/T/ipykernel_2776/877282191.py:33: SettingWithCopyWarning: \n",
      "A value is trying to be set on a copy of a slice from a DataFrame.\n",
      "Try using .loc[row_indexer,col_indexer] = value instead\n",
      "\n",
      "See the caveats in the documentation: https://pandas.pydata.org/pandas-docs/stable/user_guide/indexing.html#returning-a-view-versus-a-copy\n",
      "  quali_sessions[\"GreenLightCount\"] = (quali_sessions[\"Message\"].str.contains(\"GREEN LIGHT\")\n",
      "/var/folders/1p/_mmx_n854bl5ytvfkg4h377m0000gn/T/ipykernel_2776/3747660080.py:36: DeprecationWarning: DataFrameGroupBy.apply operated on the grouping columns. This behavior is deprecated, and in a future version of pandas the grouping columns will be excluded from the operation. Either pass `include_groups=False` to exclude the groupings or explicitly select the grouping columns after groupby to silence this warning.\n",
      "  df = df.groupby(\"QualiSession\", group_keys=False).apply(update_rankings)\n",
      "core           INFO \tLoading data for Australian Grand Prix - Qualifying [v3.4.3]\n",
      "req            INFO \tUsing cached data for session_info\n",
      "req            INFO \tUsing cached data for driver_info\n"
     ]
    },
    {
     "name": "stdout",
     "output_type": "stream",
     "text": [
      "2024 Australian Grand Prix\n"
     ]
    },
    {
     "name": "stderr",
     "output_type": "stream",
     "text": [
      "req            INFO \tUsing cached data for session_status_data\n",
      "req            INFO \tUsing cached data for track_status_data\n",
      "req            INFO \tUsing cached data for _extended_timing_data\n",
      "req            INFO \tUsing cached data for timing_app_data\n",
      "core           INFO \tProcessing timing data...\n",
      "req            INFO \tUsing cached data for car_data\n",
      "req            INFO \tUsing cached data for position_data\n",
      "req            INFO \tUsing cached data for weather_data\n",
      "req            INFO \tUsing cached data for race_control_messages\n",
      "core           INFO \tFinished loading data for 19 drivers: ['1', '55', '11', '4', '16', '81', '63', '22', '18', '14', '44', '23', '77', '20', '31', '27', '10', '3', '24']\n",
      "/var/folders/1p/_mmx_n854bl5ytvfkg4h377m0000gn/T/ipykernel_2776/877282191.py:33: SettingWithCopyWarning: \n",
      "A value is trying to be set on a copy of a slice from a DataFrame.\n",
      "Try using .loc[row_indexer,col_indexer] = value instead\n",
      "\n",
      "See the caveats in the documentation: https://pandas.pydata.org/pandas-docs/stable/user_guide/indexing.html#returning-a-view-versus-a-copy\n",
      "  quali_sessions[\"GreenLightCount\"] = (quali_sessions[\"Message\"].str.contains(\"GREEN LIGHT\")\n",
      "/var/folders/1p/_mmx_n854bl5ytvfkg4h377m0000gn/T/ipykernel_2776/3747660080.py:36: DeprecationWarning: DataFrameGroupBy.apply operated on the grouping columns. This behavior is deprecated, and in a future version of pandas the grouping columns will be excluded from the operation. Either pass `include_groups=False` to exclude the groupings or explicitly select the grouping columns after groupby to silence this warning.\n",
      "  df = df.groupby(\"QualiSession\", group_keys=False).apply(update_rankings)\n",
      "core           INFO \tLoading data for Japanese Grand Prix - Qualifying [v3.4.3]\n",
      "req            INFO \tUsing cached data for session_info\n",
      "req            INFO \tUsing cached data for driver_info\n"
     ]
    },
    {
     "name": "stdout",
     "output_type": "stream",
     "text": [
      "2024 Japanese Grand Prix\n"
     ]
    },
    {
     "name": "stderr",
     "output_type": "stream",
     "text": [
      "req            INFO \tUsing cached data for session_status_data\n",
      "req            INFO \tUsing cached data for track_status_data\n",
      "req            INFO \tUsing cached data for _extended_timing_data\n",
      "req            INFO \tUsing cached data for timing_app_data\n",
      "core           INFO \tProcessing timing data...\n",
      "req            INFO \tUsing cached data for car_data\n",
      "req            INFO \tUsing cached data for position_data\n",
      "req            INFO \tUsing cached data for weather_data\n",
      "req            INFO \tUsing cached data for race_control_messages\n",
      "core           INFO \tFinished loading data for 20 drivers: ['1', '11', '4', '55', '14', '81', '44', '16', '63', '22', '3', '27', '77', '23', '31', '18', '10', '20', '2', '24']\n",
      "/var/folders/1p/_mmx_n854bl5ytvfkg4h377m0000gn/T/ipykernel_2776/877282191.py:33: SettingWithCopyWarning: \n",
      "A value is trying to be set on a copy of a slice from a DataFrame.\n",
      "Try using .loc[row_indexer,col_indexer] = value instead\n",
      "\n",
      "See the caveats in the documentation: https://pandas.pydata.org/pandas-docs/stable/user_guide/indexing.html#returning-a-view-versus-a-copy\n",
      "  quali_sessions[\"GreenLightCount\"] = (quali_sessions[\"Message\"].str.contains(\"GREEN LIGHT\")\n",
      "/var/folders/1p/_mmx_n854bl5ytvfkg4h377m0000gn/T/ipykernel_2776/3747660080.py:36: DeprecationWarning: DataFrameGroupBy.apply operated on the grouping columns. This behavior is deprecated, and in a future version of pandas the grouping columns will be excluded from the operation. Either pass `include_groups=False` to exclude the groupings or explicitly select the grouping columns after groupby to silence this warning.\n",
      "  df = df.groupby(\"QualiSession\", group_keys=False).apply(update_rankings)\n",
      "core           INFO \tLoading data for Chinese Grand Prix - Qualifying [v3.4.3]\n",
      "req            INFO \tUsing cached data for session_info\n",
      "req            INFO \tUsing cached data for driver_info\n"
     ]
    },
    {
     "name": "stdout",
     "output_type": "stream",
     "text": [
      "2024 Chinese Grand Prix\n"
     ]
    },
    {
     "name": "stderr",
     "output_type": "stream",
     "text": [
      "req            INFO \tUsing cached data for session_status_data\n",
      "req            INFO \tUsing cached data for track_status_data\n",
      "req            INFO \tUsing cached data for _extended_timing_data\n",
      "req            INFO \tUsing cached data for timing_app_data\n",
      "core           INFO \tProcessing timing data...\n",
      "req            INFO \tUsing cached data for car_data\n",
      "req            INFO \tUsing cached data for position_data\n",
      "req            INFO \tUsing cached data for weather_data\n",
      "req            INFO \tUsing cached data for race_control_messages\n",
      "core           INFO \tFinished loading data for 20 drivers: ['1', '11', '14', '4', '81', '16', '55', '63', '27', '77', '18', '3', '31', '23', '10', '24', '20', '44', '22', '2']\n",
      "/var/folders/1p/_mmx_n854bl5ytvfkg4h377m0000gn/T/ipykernel_2776/877282191.py:33: SettingWithCopyWarning: \n",
      "A value is trying to be set on a copy of a slice from a DataFrame.\n",
      "Try using .loc[row_indexer,col_indexer] = value instead\n",
      "\n",
      "See the caveats in the documentation: https://pandas.pydata.org/pandas-docs/stable/user_guide/indexing.html#returning-a-view-versus-a-copy\n",
      "  quali_sessions[\"GreenLightCount\"] = (quali_sessions[\"Message\"].str.contains(\"GREEN LIGHT\")\n",
      "/var/folders/1p/_mmx_n854bl5ytvfkg4h377m0000gn/T/ipykernel_2776/3747660080.py:36: DeprecationWarning: DataFrameGroupBy.apply operated on the grouping columns. This behavior is deprecated, and in a future version of pandas the grouping columns will be excluded from the operation. Either pass `include_groups=False` to exclude the groupings or explicitly select the grouping columns after groupby to silence this warning.\n",
      "  df = df.groupby(\"QualiSession\", group_keys=False).apply(update_rankings)\n",
      "core           INFO \tLoading data for Miami Grand Prix - Qualifying [v3.4.3]\n",
      "req            INFO \tUsing cached data for session_info\n",
      "req            INFO \tUsing cached data for driver_info\n"
     ]
    },
    {
     "name": "stdout",
     "output_type": "stream",
     "text": [
      "2024 Miami Grand Prix\n"
     ]
    },
    {
     "name": "stderr",
     "output_type": "stream",
     "text": [
      "req            INFO \tUsing cached data for session_status_data\n",
      "req            INFO \tUsing cached data for track_status_data\n",
      "req            INFO \tUsing cached data for _extended_timing_data\n",
      "req            INFO \tUsing cached data for timing_app_data\n",
      "core           INFO \tProcessing timing data...\n",
      "req            INFO \tUsing cached data for car_data\n",
      "req            INFO \tUsing cached data for position_data\n",
      "req            INFO \tUsing cached data for weather_data\n",
      "req            INFO \tUsing cached data for race_control_messages\n",
      "core           INFO \tFinished loading data for 20 drivers: ['1', '16', '55', '11', '4', '81', '63', '44', '27', '22', '18', '10', '31', '23', '14', '77', '2', '3', '20', '24']\n",
      "/var/folders/1p/_mmx_n854bl5ytvfkg4h377m0000gn/T/ipykernel_2776/877282191.py:33: SettingWithCopyWarning: \n",
      "A value is trying to be set on a copy of a slice from a DataFrame.\n",
      "Try using .loc[row_indexer,col_indexer] = value instead\n",
      "\n",
      "See the caveats in the documentation: https://pandas.pydata.org/pandas-docs/stable/user_guide/indexing.html#returning-a-view-versus-a-copy\n",
      "  quali_sessions[\"GreenLightCount\"] = (quali_sessions[\"Message\"].str.contains(\"GREEN LIGHT\")\n",
      "/var/folders/1p/_mmx_n854bl5ytvfkg4h377m0000gn/T/ipykernel_2776/3747660080.py:36: DeprecationWarning: DataFrameGroupBy.apply operated on the grouping columns. This behavior is deprecated, and in a future version of pandas the grouping columns will be excluded from the operation. Either pass `include_groups=False` to exclude the groupings or explicitly select the grouping columns after groupby to silence this warning.\n",
      "  df = df.groupby(\"QualiSession\", group_keys=False).apply(update_rankings)\n",
      "core           INFO \tLoading data for Emilia Romagna Grand Prix - Qualifying [v3.4.3]\n",
      "req            INFO \tUsing cached data for session_info\n",
      "req            INFO \tUsing cached data for driver_info\n"
     ]
    },
    {
     "name": "stdout",
     "output_type": "stream",
     "text": [
      "2024 Emilia Romagna Grand Prix\n"
     ]
    },
    {
     "name": "stderr",
     "output_type": "stream",
     "text": [
      "req            INFO \tUsing cached data for session_status_data\n",
      "req            INFO \tUsing cached data for track_status_data\n",
      "req            INFO \tUsing cached data for _extended_timing_data\n",
      "req            INFO \tUsing cached data for timing_app_data\n",
      "core           INFO \tProcessing timing data...\n",
      "core        WARNING \tDriver  2: Lap timing integrity check failed for 1 lap(s)\n",
      "req            INFO \tUsing cached data for car_data\n",
      "req            INFO \tUsing cached data for position_data\n",
      "req            INFO \tUsing cached data for weather_data\n",
      "req            INFO \tUsing cached data for race_control_messages\n",
      "core           INFO \tFinished loading data for 20 drivers: ['1', '81', '4', '16', '55', '63', '22', '44', '3', '27', '11', '31', '18', '23', '10', '77', '24', '20', '14', '2']\n",
      "/var/folders/1p/_mmx_n854bl5ytvfkg4h377m0000gn/T/ipykernel_2776/877282191.py:33: SettingWithCopyWarning: \n",
      "A value is trying to be set on a copy of a slice from a DataFrame.\n",
      "Try using .loc[row_indexer,col_indexer] = value instead\n",
      "\n",
      "See the caveats in the documentation: https://pandas.pydata.org/pandas-docs/stable/user_guide/indexing.html#returning-a-view-versus-a-copy\n",
      "  quali_sessions[\"GreenLightCount\"] = (quali_sessions[\"Message\"].str.contains(\"GREEN LIGHT\")\n",
      "/var/folders/1p/_mmx_n854bl5ytvfkg4h377m0000gn/T/ipykernel_2776/3747660080.py:36: DeprecationWarning: DataFrameGroupBy.apply operated on the grouping columns. This behavior is deprecated, and in a future version of pandas the grouping columns will be excluded from the operation. Either pass `include_groups=False` to exclude the groupings or explicitly select the grouping columns after groupby to silence this warning.\n",
      "  df = df.groupby(\"QualiSession\", group_keys=False).apply(update_rankings)\n",
      "core           INFO \tLoading data for Monaco Grand Prix - Qualifying [v3.4.3]\n",
      "req            INFO \tUsing cached data for session_info\n",
      "req            INFO \tUsing cached data for driver_info\n"
     ]
    },
    {
     "name": "stdout",
     "output_type": "stream",
     "text": [
      "2024 Monaco Grand Prix\n"
     ]
    },
    {
     "name": "stderr",
     "output_type": "stream",
     "text": [
      "req            INFO \tUsing cached data for session_status_data\n",
      "req            INFO \tUsing cached data for track_status_data\n",
      "req            INFO \tUsing cached data for _extended_timing_data\n",
      "req            INFO \tUsing cached data for timing_app_data\n",
      "core           INFO \tProcessing timing data...\n",
      "core        WARNING \tDriver  3: Lap timing integrity check failed for 1 lap(s)\n",
      "req            INFO \tUsing cached data for car_data\n",
      "req            INFO \tUsing cached data for position_data\n",
      "req            INFO \tUsing cached data for weather_data\n",
      "req            INFO \tUsing cached data for race_control_messages\n",
      "core           INFO \tFinished loading data for 20 drivers: ['16', '81', '55', '4', '63', '1', '44', '22', '23', '10', '31', '27', '3', '18', '20', '14', '2', '11', '77', '24']\n",
      "/var/folders/1p/_mmx_n854bl5ytvfkg4h377m0000gn/T/ipykernel_2776/877282191.py:33: SettingWithCopyWarning: \n",
      "A value is trying to be set on a copy of a slice from a DataFrame.\n",
      "Try using .loc[row_indexer,col_indexer] = value instead\n",
      "\n",
      "See the caveats in the documentation: https://pandas.pydata.org/pandas-docs/stable/user_guide/indexing.html#returning-a-view-versus-a-copy\n",
      "  quali_sessions[\"GreenLightCount\"] = (quali_sessions[\"Message\"].str.contains(\"GREEN LIGHT\")\n",
      "/var/folders/1p/_mmx_n854bl5ytvfkg4h377m0000gn/T/ipykernel_2776/3747660080.py:36: DeprecationWarning: DataFrameGroupBy.apply operated on the grouping columns. This behavior is deprecated, and in a future version of pandas the grouping columns will be excluded from the operation. Either pass `include_groups=False` to exclude the groupings or explicitly select the grouping columns after groupby to silence this warning.\n",
      "  df = df.groupby(\"QualiSession\", group_keys=False).apply(update_rankings)\n",
      "core           INFO \tLoading data for Canadian Grand Prix - Qualifying [v3.4.3]\n",
      "req            INFO \tUsing cached data for session_info\n",
      "req            INFO \tUsing cached data for driver_info\n"
     ]
    },
    {
     "name": "stdout",
     "output_type": "stream",
     "text": [
      "2024 Canadian Grand Prix\n"
     ]
    },
    {
     "name": "stderr",
     "output_type": "stream",
     "text": [
      "req            INFO \tUsing cached data for session_status_data\n",
      "req            INFO \tUsing cached data for track_status_data\n",
      "req            INFO \tUsing cached data for _extended_timing_data\n",
      "req            INFO \tUsing cached data for timing_app_data\n",
      "core           INFO \tProcessing timing data...\n",
      "req            INFO \tUsing cached data for car_data\n",
      "req            INFO \tUsing cached data for position_data\n",
      "req            INFO \tUsing cached data for weather_data\n",
      "req            INFO \tUsing cached data for race_control_messages\n",
      "core           INFO \tFinished loading data for 20 drivers: ['63', '1', '4', '81', '3', '14', '44', '22', '18', '23', '16', '55', '2', '20', '10', '11', '77', '31', '27', '24']\n",
      "/var/folders/1p/_mmx_n854bl5ytvfkg4h377m0000gn/T/ipykernel_2776/877282191.py:33: SettingWithCopyWarning: \n",
      "A value is trying to be set on a copy of a slice from a DataFrame.\n",
      "Try using .loc[row_indexer,col_indexer] = value instead\n",
      "\n",
      "See the caveats in the documentation: https://pandas.pydata.org/pandas-docs/stable/user_guide/indexing.html#returning-a-view-versus-a-copy\n",
      "  quali_sessions[\"GreenLightCount\"] = (quali_sessions[\"Message\"].str.contains(\"GREEN LIGHT\")\n",
      "/var/folders/1p/_mmx_n854bl5ytvfkg4h377m0000gn/T/ipykernel_2776/3747660080.py:36: DeprecationWarning: DataFrameGroupBy.apply operated on the grouping columns. This behavior is deprecated, and in a future version of pandas the grouping columns will be excluded from the operation. Either pass `include_groups=False` to exclude the groupings or explicitly select the grouping columns after groupby to silence this warning.\n",
      "  df = df.groupby(\"QualiSession\", group_keys=False).apply(update_rankings)\n",
      "core           INFO \tLoading data for Spanish Grand Prix - Qualifying [v3.4.3]\n",
      "req            INFO \tUsing cached data for session_info\n",
      "req            INFO \tUsing cached data for driver_info\n"
     ]
    },
    {
     "name": "stdout",
     "output_type": "stream",
     "text": [
      "2024 Spanish Grand Prix\n"
     ]
    },
    {
     "name": "stderr",
     "output_type": "stream",
     "text": [
      "req            INFO \tUsing cached data for session_status_data\n",
      "req            INFO \tUsing cached data for track_status_data\n",
      "req            INFO \tUsing cached data for _extended_timing_data\n",
      "req            INFO \tUsing cached data for timing_app_data\n",
      "core           INFO \tProcessing timing data...\n",
      "req            INFO \tUsing cached data for car_data\n",
      "req            INFO \tUsing cached data for position_data\n",
      "req            INFO \tUsing cached data for weather_data\n",
      "req            INFO \tUsing cached data for race_control_messages\n",
      "core           INFO \tFinished loading data for 20 drivers: ['4', '1', '44', '63', '16', '55', '10', '11', '31', '81', '14', '77', '27', '18', '24', '20', '22', '3', '23', '2']\n",
      "/var/folders/1p/_mmx_n854bl5ytvfkg4h377m0000gn/T/ipykernel_2776/877282191.py:33: SettingWithCopyWarning: \n",
      "A value is trying to be set on a copy of a slice from a DataFrame.\n",
      "Try using .loc[row_indexer,col_indexer] = value instead\n",
      "\n",
      "See the caveats in the documentation: https://pandas.pydata.org/pandas-docs/stable/user_guide/indexing.html#returning-a-view-versus-a-copy\n",
      "  quali_sessions[\"GreenLightCount\"] = (quali_sessions[\"Message\"].str.contains(\"GREEN LIGHT\")\n",
      "/var/folders/1p/_mmx_n854bl5ytvfkg4h377m0000gn/T/ipykernel_2776/3747660080.py:36: DeprecationWarning: DataFrameGroupBy.apply operated on the grouping columns. This behavior is deprecated, and in a future version of pandas the grouping columns will be excluded from the operation. Either pass `include_groups=False` to exclude the groupings or explicitly select the grouping columns after groupby to silence this warning.\n",
      "  df = df.groupby(\"QualiSession\", group_keys=False).apply(update_rankings)\n",
      "core           INFO \tLoading data for Austrian Grand Prix - Qualifying [v3.4.3]\n",
      "req            INFO \tUsing cached data for session_info\n",
      "req            INFO \tUsing cached data for driver_info\n"
     ]
    },
    {
     "name": "stdout",
     "output_type": "stream",
     "text": [
      "2024 Austrian Grand Prix\n"
     ]
    },
    {
     "name": "stderr",
     "output_type": "stream",
     "text": [
      "req            INFO \tUsing cached data for session_status_data\n",
      "req            INFO \tUsing cached data for track_status_data\n",
      "req            INFO \tUsing cached data for _extended_timing_data\n",
      "req            INFO \tUsing cached data for timing_app_data\n",
      "core           INFO \tProcessing timing data...\n",
      "req            INFO \tUsing cached data for car_data\n",
      "req            INFO \tUsing cached data for position_data\n",
      "req            INFO \tUsing cached data for weather_data\n",
      "req            INFO \tUsing cached data for race_control_messages\n",
      "core           INFO \tFinished loading data for 20 drivers: ['1', '4', '63', '55', '44', '16', '81', '11', '27', '31', '3', '20', '10', '22', '14', '23', '18', '77', '2', '24']\n",
      "/var/folders/1p/_mmx_n854bl5ytvfkg4h377m0000gn/T/ipykernel_2776/877282191.py:33: SettingWithCopyWarning: \n",
      "A value is trying to be set on a copy of a slice from a DataFrame.\n",
      "Try using .loc[row_indexer,col_indexer] = value instead\n",
      "\n",
      "See the caveats in the documentation: https://pandas.pydata.org/pandas-docs/stable/user_guide/indexing.html#returning-a-view-versus-a-copy\n",
      "  quali_sessions[\"GreenLightCount\"] = (quali_sessions[\"Message\"].str.contains(\"GREEN LIGHT\")\n",
      "/var/folders/1p/_mmx_n854bl5ytvfkg4h377m0000gn/T/ipykernel_2776/3747660080.py:36: DeprecationWarning: DataFrameGroupBy.apply operated on the grouping columns. This behavior is deprecated, and in a future version of pandas the grouping columns will be excluded from the operation. Either pass `include_groups=False` to exclude the groupings or explicitly select the grouping columns after groupby to silence this warning.\n",
      "  df = df.groupby(\"QualiSession\", group_keys=False).apply(update_rankings)\n",
      "core           INFO \tLoading data for British Grand Prix - Qualifying [v3.4.3]\n",
      "req            INFO \tUsing cached data for session_info\n",
      "req            INFO \tUsing cached data for driver_info\n"
     ]
    },
    {
     "name": "stdout",
     "output_type": "stream",
     "text": [
      "2024 British Grand Prix\n"
     ]
    },
    {
     "name": "stderr",
     "output_type": "stream",
     "text": [
      "req            INFO \tUsing cached data for session_status_data\n",
      "req            INFO \tUsing cached data for track_status_data\n",
      "req            INFO \tUsing cached data for _extended_timing_data\n",
      "req            INFO \tUsing cached data for timing_app_data\n",
      "core           INFO \tProcessing timing data...\n",
      "req            INFO \tUsing cached data for car_data\n",
      "req            INFO \tUsing cached data for position_data\n",
      "req            INFO \tUsing cached data for weather_data\n",
      "req            INFO \tUsing cached data for race_control_messages\n",
      "core           INFO \tFinished loading data for 20 drivers: ['63', '44', '4', '1', '81', '27', '55', '18', '23', '14', '16', '2', '22', '24', '3', '77', '20', '31', '11', '10']\n",
      "/var/folders/1p/_mmx_n854bl5ytvfkg4h377m0000gn/T/ipykernel_2776/877282191.py:33: SettingWithCopyWarning: \n",
      "A value is trying to be set on a copy of a slice from a DataFrame.\n",
      "Try using .loc[row_indexer,col_indexer] = value instead\n",
      "\n",
      "See the caveats in the documentation: https://pandas.pydata.org/pandas-docs/stable/user_guide/indexing.html#returning-a-view-versus-a-copy\n",
      "  quali_sessions[\"GreenLightCount\"] = (quali_sessions[\"Message\"].str.contains(\"GREEN LIGHT\")\n",
      "/var/folders/1p/_mmx_n854bl5ytvfkg4h377m0000gn/T/ipykernel_2776/3747660080.py:36: DeprecationWarning: DataFrameGroupBy.apply operated on the grouping columns. This behavior is deprecated, and in a future version of pandas the grouping columns will be excluded from the operation. Either pass `include_groups=False` to exclude the groupings or explicitly select the grouping columns after groupby to silence this warning.\n",
      "  df = df.groupby(\"QualiSession\", group_keys=False).apply(update_rankings)\n",
      "core           INFO \tLoading data for Hungarian Grand Prix - Qualifying [v3.4.3]\n",
      "req            INFO \tUsing cached data for session_info\n",
      "req            INFO \tUsing cached data for driver_info\n"
     ]
    },
    {
     "name": "stdout",
     "output_type": "stream",
     "text": [
      "2024 Hungarian Grand Prix\n"
     ]
    },
    {
     "name": "stderr",
     "output_type": "stream",
     "text": [
      "req            INFO \tUsing cached data for session_status_data\n",
      "req            INFO \tUsing cached data for track_status_data\n",
      "req            INFO \tUsing cached data for _extended_timing_data\n",
      "req            INFO \tUsing cached data for timing_app_data\n",
      "core           INFO \tProcessing timing data...\n",
      "req            INFO \tUsing cached data for car_data\n",
      "req            INFO \tUsing cached data for position_data\n",
      "req            INFO \tUsing cached data for weather_data\n",
      "req            INFO \tUsing cached data for race_control_messages\n",
      "core           INFO \tFinished loading data for 20 drivers: ['4', '81', '1', '55', '44', '16', '14', '18', '3', '22', '27', '77', '23', '2', '20', '11', '63', '24', '31', '10']\n",
      "/var/folders/1p/_mmx_n854bl5ytvfkg4h377m0000gn/T/ipykernel_2776/877282191.py:33: SettingWithCopyWarning: \n",
      "A value is trying to be set on a copy of a slice from a DataFrame.\n",
      "Try using .loc[row_indexer,col_indexer] = value instead\n",
      "\n",
      "See the caveats in the documentation: https://pandas.pydata.org/pandas-docs/stable/user_guide/indexing.html#returning-a-view-versus-a-copy\n",
      "  quali_sessions[\"GreenLightCount\"] = (quali_sessions[\"Message\"].str.contains(\"GREEN LIGHT\")\n",
      "/var/folders/1p/_mmx_n854bl5ytvfkg4h377m0000gn/T/ipykernel_2776/3747660080.py:36: DeprecationWarning: DataFrameGroupBy.apply operated on the grouping columns. This behavior is deprecated, and in a future version of pandas the grouping columns will be excluded from the operation. Either pass `include_groups=False` to exclude the groupings or explicitly select the grouping columns after groupby to silence this warning.\n",
      "  df = df.groupby(\"QualiSession\", group_keys=False).apply(update_rankings)\n",
      "core           INFO \tLoading data for Belgian Grand Prix - Qualifying [v3.4.3]\n",
      "req            INFO \tUsing cached data for session_info\n",
      "req            INFO \tUsing cached data for driver_info\n"
     ]
    },
    {
     "name": "stdout",
     "output_type": "stream",
     "text": [
      "2024 Belgian Grand Prix\n"
     ]
    },
    {
     "name": "stderr",
     "output_type": "stream",
     "text": [
      "req            INFO \tUsing cached data for session_status_data\n",
      "req            INFO \tUsing cached data for track_status_data\n",
      "req            INFO \tUsing cached data for _extended_timing_data\n",
      "req            INFO \tUsing cached data for timing_app_data\n",
      "core           INFO \tProcessing timing data...\n",
      "req            INFO \tUsing cached data for car_data\n",
      "req            INFO \tUsing cached data for position_data\n",
      "req            INFO \tUsing cached data for weather_data\n",
      "req            INFO \tUsing cached data for race_control_messages\n",
      "core           INFO \tFinished loading data for 20 drivers: ['1', '16', '11', '44', '4', '81', '63', '55', '14', '31', '23', '10', '3', '77', '18', '27', '20', '22', '2', '24']\n",
      "/var/folders/1p/_mmx_n854bl5ytvfkg4h377m0000gn/T/ipykernel_2776/877282191.py:33: SettingWithCopyWarning: \n",
      "A value is trying to be set on a copy of a slice from a DataFrame.\n",
      "Try using .loc[row_indexer,col_indexer] = value instead\n",
      "\n",
      "See the caveats in the documentation: https://pandas.pydata.org/pandas-docs/stable/user_guide/indexing.html#returning-a-view-versus-a-copy\n",
      "  quali_sessions[\"GreenLightCount\"] = (quali_sessions[\"Message\"].str.contains(\"GREEN LIGHT\")\n",
      "/var/folders/1p/_mmx_n854bl5ytvfkg4h377m0000gn/T/ipykernel_2776/3747660080.py:36: DeprecationWarning: DataFrameGroupBy.apply operated on the grouping columns. This behavior is deprecated, and in a future version of pandas the grouping columns will be excluded from the operation. Either pass `include_groups=False` to exclude the groupings or explicitly select the grouping columns after groupby to silence this warning.\n",
      "  df = df.groupby(\"QualiSession\", group_keys=False).apply(update_rankings)\n",
      "core           INFO \tLoading data for Dutch Grand Prix - Qualifying [v3.4.3]\n",
      "req            INFO \tUsing cached data for session_info\n",
      "req            INFO \tUsing cached data for driver_info\n"
     ]
    },
    {
     "name": "stdout",
     "output_type": "stream",
     "text": [
      "2024 Dutch Grand Prix\n"
     ]
    },
    {
     "name": "stderr",
     "output_type": "stream",
     "text": [
      "req            INFO \tUsing cached data for session_status_data\n",
      "req            INFO \tUsing cached data for track_status_data\n",
      "req            INFO \tUsing cached data for _extended_timing_data\n",
      "req            INFO \tUsing cached data for timing_app_data\n",
      "core           INFO \tProcessing timing data...\n",
      "core        WARNING \tNo lap data for driver 2\n",
      "core        WARNING \tFailed to perform lap accuracy check - all laps marked as inaccurate (driver 2)\n",
      "req            INFO \tUsing cached data for car_data\n",
      "req            INFO \tUsing cached data for position_data\n",
      "req            INFO \tUsing cached data for weather_data\n",
      "req            INFO \tUsing cached data for race_control_messages\n",
      "core           INFO \tFinished loading data for 20 drivers: ['4', '1', '81', '63', '11', '16', '14', '18', '10', '55', '44', '22', '27', '20', '3', '31', '77', '24', '23', '2']\n",
      "/var/folders/1p/_mmx_n854bl5ytvfkg4h377m0000gn/T/ipykernel_2776/877282191.py:33: SettingWithCopyWarning: \n",
      "A value is trying to be set on a copy of a slice from a DataFrame.\n",
      "Try using .loc[row_indexer,col_indexer] = value instead\n",
      "\n",
      "See the caveats in the documentation: https://pandas.pydata.org/pandas-docs/stable/user_guide/indexing.html#returning-a-view-versus-a-copy\n",
      "  quali_sessions[\"GreenLightCount\"] = (quali_sessions[\"Message\"].str.contains(\"GREEN LIGHT\")\n",
      "/var/folders/1p/_mmx_n854bl5ytvfkg4h377m0000gn/T/ipykernel_2776/3747660080.py:36: DeprecationWarning: DataFrameGroupBy.apply operated on the grouping columns. This behavior is deprecated, and in a future version of pandas the grouping columns will be excluded from the operation. Either pass `include_groups=False` to exclude the groupings or explicitly select the grouping columns after groupby to silence this warning.\n",
      "  df = df.groupby(\"QualiSession\", group_keys=False).apply(update_rankings)\n",
      "core           INFO \tLoading data for Italian Grand Prix - Qualifying [v3.4.3]\n",
      "req            INFO \tUsing cached data for session_info\n",
      "req            INFO \tUsing cached data for driver_info\n"
     ]
    },
    {
     "name": "stdout",
     "output_type": "stream",
     "text": [
      "2024 Italian Grand Prix\n"
     ]
    },
    {
     "name": "stderr",
     "output_type": "stream",
     "text": [
      "req            INFO \tUsing cached data for session_status_data\n",
      "req            INFO \tUsing cached data for track_status_data\n",
      "req            INFO \tUsing cached data for _extended_timing_data\n",
      "req            INFO \tUsing cached data for timing_app_data\n",
      "core           INFO \tProcessing timing data...\n",
      "req            INFO \tUsing cached data for car_data\n",
      "req            INFO \tUsing cached data for position_data\n",
      "req            INFO \tUsing cached data for weather_data\n",
      "req            INFO \tUsing cached data for race_control_messages\n",
      "core           INFO \tFinished loading data for 20 drivers: ['4', '81', '63', '16', '55', '44', '1', '11', '23', '27', '14', '3', '20', '10', '31', '22', '18', '43', '77', '24']\n",
      "/var/folders/1p/_mmx_n854bl5ytvfkg4h377m0000gn/T/ipykernel_2776/877282191.py:33: SettingWithCopyWarning: \n",
      "A value is trying to be set on a copy of a slice from a DataFrame.\n",
      "Try using .loc[row_indexer,col_indexer] = value instead\n",
      "\n",
      "See the caveats in the documentation: https://pandas.pydata.org/pandas-docs/stable/user_guide/indexing.html#returning-a-view-versus-a-copy\n",
      "  quali_sessions[\"GreenLightCount\"] = (quali_sessions[\"Message\"].str.contains(\"GREEN LIGHT\")\n",
      "/var/folders/1p/_mmx_n854bl5ytvfkg4h377m0000gn/T/ipykernel_2776/3747660080.py:36: DeprecationWarning: DataFrameGroupBy.apply operated on the grouping columns. This behavior is deprecated, and in a future version of pandas the grouping columns will be excluded from the operation. Either pass `include_groups=False` to exclude the groupings or explicitly select the grouping columns after groupby to silence this warning.\n",
      "  df = df.groupby(\"QualiSession\", group_keys=False).apply(update_rankings)\n",
      "core           INFO \tLoading data for Azerbaijan Grand Prix - Qualifying [v3.4.3]\n",
      "req            INFO \tUsing cached data for session_info\n",
      "req            INFO \tUsing cached data for driver_info\n"
     ]
    },
    {
     "name": "stdout",
     "output_type": "stream",
     "text": [
      "2024 Azerbaijan Grand Prix\n"
     ]
    },
    {
     "name": "stderr",
     "output_type": "stream",
     "text": [
      "req            INFO \tUsing cached data for session_status_data\n",
      "req            INFO \tUsing cached data for track_status_data\n",
      "req            INFO \tUsing cached data for _extended_timing_data\n",
      "req            INFO \tUsing cached data for timing_app_data\n",
      "core           INFO \tProcessing timing data...\n",
      "req            INFO \tUsing cached data for car_data\n",
      "req            INFO \tUsing cached data for position_data\n",
      "req            INFO \tUsing cached data for weather_data\n",
      "req            INFO \tUsing cached data for race_control_messages\n",
      "core           INFO \tFinished loading data for 20 drivers: ['16', '81', '55', '11', '63', '1', '44', '14', '43', '23', '50', '22', '27', '18', '3', '4', '77', '24', '31', '10']\n",
      "/var/folders/1p/_mmx_n854bl5ytvfkg4h377m0000gn/T/ipykernel_2776/877282191.py:33: SettingWithCopyWarning: \n",
      "A value is trying to be set on a copy of a slice from a DataFrame.\n",
      "Try using .loc[row_indexer,col_indexer] = value instead\n",
      "\n",
      "See the caveats in the documentation: https://pandas.pydata.org/pandas-docs/stable/user_guide/indexing.html#returning-a-view-versus-a-copy\n",
      "  quali_sessions[\"GreenLightCount\"] = (quali_sessions[\"Message\"].str.contains(\"GREEN LIGHT\")\n",
      "/var/folders/1p/_mmx_n854bl5ytvfkg4h377m0000gn/T/ipykernel_2776/3747660080.py:36: DeprecationWarning: DataFrameGroupBy.apply operated on the grouping columns. This behavior is deprecated, and in a future version of pandas the grouping columns will be excluded from the operation. Either pass `include_groups=False` to exclude the groupings or explicitly select the grouping columns after groupby to silence this warning.\n",
      "  df = df.groupby(\"QualiSession\", group_keys=False).apply(update_rankings)\n",
      "core           INFO \tLoading data for Singapore Grand Prix - Qualifying [v3.4.3]\n",
      "req            INFO \tUsing cached data for session_info\n",
      "req            INFO \tUsing cached data for driver_info\n"
     ]
    },
    {
     "name": "stdout",
     "output_type": "stream",
     "text": [
      "2024 Singapore Grand Prix\n"
     ]
    },
    {
     "name": "stderr",
     "output_type": "stream",
     "text": [
      "req            INFO \tUsing cached data for session_status_data\n",
      "req            INFO \tUsing cached data for track_status_data\n",
      "req            INFO \tUsing cached data for _extended_timing_data\n",
      "req            INFO \tUsing cached data for timing_app_data\n",
      "core           INFO \tProcessing timing data...\n",
      "req            INFO \tUsing cached data for car_data\n",
      "req            INFO \tUsing cached data for position_data\n",
      "req            INFO \tUsing cached data for weather_data\n",
      "req            INFO \tUsing cached data for race_control_messages\n",
      "core           INFO \tFinished loading data for 20 drivers: ['4', '1', '44', '63', '81', '27', '14', '22', '16', '55', '23', '43', '11', '20', '31', '3', '18', '10', '77', '24']\n",
      "/var/folders/1p/_mmx_n854bl5ytvfkg4h377m0000gn/T/ipykernel_2776/877282191.py:33: SettingWithCopyWarning: \n",
      "A value is trying to be set on a copy of a slice from a DataFrame.\n",
      "Try using .loc[row_indexer,col_indexer] = value instead\n",
      "\n",
      "See the caveats in the documentation: https://pandas.pydata.org/pandas-docs/stable/user_guide/indexing.html#returning-a-view-versus-a-copy\n",
      "  quali_sessions[\"GreenLightCount\"] = (quali_sessions[\"Message\"].str.contains(\"GREEN LIGHT\")\n",
      "/var/folders/1p/_mmx_n854bl5ytvfkg4h377m0000gn/T/ipykernel_2776/3747660080.py:36: DeprecationWarning: DataFrameGroupBy.apply operated on the grouping columns. This behavior is deprecated, and in a future version of pandas the grouping columns will be excluded from the operation. Either pass `include_groups=False` to exclude the groupings or explicitly select the grouping columns after groupby to silence this warning.\n",
      "  df = df.groupby(\"QualiSession\", group_keys=False).apply(update_rankings)\n",
      "events      WARNING \tCorrecting user input 'United States Grand Prix' to 'United States Grand Prix'\n",
      "core           INFO \tLoading data for United States Grand Prix - Qualifying [v3.4.3]\n",
      "req            INFO \tUsing cached data for session_info\n",
      "req            INFO \tUsing cached data for driver_info\n",
      "Request for URL https://ergast.com/api/f1/2024/19/qualifying.json failed; using cached response\n",
      "Traceback (most recent call last):\n",
      "  File \"/Users/katecastillo/Documents/learning/f1-exploration/.venv/lib/python3.11/site-packages/requests_cache/session.py\", line 286, in _resend\n",
      "    response = self._send_and_cache(request, actions, cached_response, **kwargs)\n",
      "               ^^^^^^^^^^^^^^^^^^^^^^^^^^^^^^^^^^^^^^^^^^^^^^^^^^^^^^^^^^^^^^^^^\n",
      "  File \"/Users/katecastillo/Documents/learning/f1-exploration/.venv/lib/python3.11/site-packages/requests_cache/session.py\", line 254, in _send_and_cache\n",
      "    response = super().send(request, **kwargs)\n",
      "               ^^^^^^^^^^^^^^^^^^^^^^^^^^^^^^^\n",
      "  File \"/Users/katecastillo/Documents/learning/f1-exploration/.venv/lib/python3.11/site-packages/fastf1/req.py\", line 134, in send\n",
      "    lim.limit()\n",
      "  File \"/Users/katecastillo/Documents/learning/f1-exploration/.venv/lib/python3.11/site-packages/fastf1/req.py\", line 104, in limit\n",
      "    raise RateLimitExceededError(self._info)\n",
      "fastf1.req.RateLimitExceededError: any API: 500 calls/h\n",
      "req            INFO \tUsing cached data for session_status_data\n",
      "req            INFO \tUsing cached data for track_status_data\n",
      "req            INFO \tUsing cached data for _extended_timing_data\n",
      "req            INFO \tUsing cached data for timing_app_data\n",
      "core           INFO \tProcessing timing data...\n"
     ]
    },
    {
     "name": "stdout",
     "output_type": "stream",
     "text": [
      "2024 United States Grand Prix\n"
     ]
    },
    {
     "name": "stderr",
     "output_type": "stream",
     "text": [
      "req            INFO \tUsing cached data for car_data\n",
      "req            INFO \tUsing cached data for position_data\n",
      "req            INFO \tUsing cached data for weather_data\n",
      "req            INFO \tUsing cached data for race_control_messages\n",
      "core           INFO \tFinished loading data for 20 drivers: ['4', '1', '55', '16', '81', '63', '10', '14', '20', '11', '22', '27', '31', '18', '30', '23', '43', '77', '44', '24']\n",
      "/var/folders/1p/_mmx_n854bl5ytvfkg4h377m0000gn/T/ipykernel_2776/877282191.py:33: SettingWithCopyWarning: \n",
      "A value is trying to be set on a copy of a slice from a DataFrame.\n",
      "Try using .loc[row_indexer,col_indexer] = value instead\n",
      "\n",
      "See the caveats in the documentation: https://pandas.pydata.org/pandas-docs/stable/user_guide/indexing.html#returning-a-view-versus-a-copy\n",
      "  quali_sessions[\"GreenLightCount\"] = (quali_sessions[\"Message\"].str.contains(\"GREEN LIGHT\")\n",
      "/var/folders/1p/_mmx_n854bl5ytvfkg4h377m0000gn/T/ipykernel_2776/3747660080.py:36: DeprecationWarning: DataFrameGroupBy.apply operated on the grouping columns. This behavior is deprecated, and in a future version of pandas the grouping columns will be excluded from the operation. Either pass `include_groups=False` to exclude the groupings or explicitly select the grouping columns after groupby to silence this warning.\n",
      "  df = df.groupby(\"QualiSession\", group_keys=False).apply(update_rankings)\n",
      "core           INFO \tLoading data for Mexico City Grand Prix - Qualifying [v3.4.3]\n",
      "req            INFO \tUsing cached data for session_info\n",
      "req            INFO \tUsing cached data for driver_info\n",
      "Request for URL https://ergast.com/api/f1/2024/20/qualifying.json failed; using cached response\n",
      "Traceback (most recent call last):\n",
      "  File \"/Users/katecastillo/Documents/learning/f1-exploration/.venv/lib/python3.11/site-packages/requests_cache/session.py\", line 286, in _resend\n",
      "    response = self._send_and_cache(request, actions, cached_response, **kwargs)\n",
      "               ^^^^^^^^^^^^^^^^^^^^^^^^^^^^^^^^^^^^^^^^^^^^^^^^^^^^^^^^^^^^^^^^^\n",
      "  File \"/Users/katecastillo/Documents/learning/f1-exploration/.venv/lib/python3.11/site-packages/requests_cache/session.py\", line 254, in _send_and_cache\n",
      "    response = super().send(request, **kwargs)\n",
      "               ^^^^^^^^^^^^^^^^^^^^^^^^^^^^^^^\n",
      "  File \"/Users/katecastillo/Documents/learning/f1-exploration/.venv/lib/python3.11/site-packages/fastf1/req.py\", line 134, in send\n",
      "    lim.limit()\n",
      "  File \"/Users/katecastillo/Documents/learning/f1-exploration/.venv/lib/python3.11/site-packages/fastf1/req.py\", line 104, in limit\n",
      "    raise RateLimitExceededError(self._info)\n",
      "fastf1.req.RateLimitExceededError: any API: 500 calls/h\n",
      "req            INFO \tUsing cached data for session_status_data\n",
      "req            INFO \tUsing cached data for track_status_data\n",
      "req            INFO \tUsing cached data for _extended_timing_data\n",
      "req            INFO \tUsing cached data for timing_app_data\n",
      "core           INFO \tProcessing timing data...\n"
     ]
    },
    {
     "name": "stdout",
     "output_type": "stream",
     "text": [
      "2024 Mexico City Grand Prix\n"
     ]
    },
    {
     "name": "stderr",
     "output_type": "stream",
     "text": [
      "req            INFO \tUsing cached data for car_data\n",
      "req            INFO \tUsing cached data for position_data\n",
      "req            INFO \tUsing cached data for weather_data\n",
      "req            INFO \tUsing cached data for race_control_messages\n",
      "core           INFO \tFinished loading data for 20 drivers: ['55', '1', '4', '16', '63', '44', '20', '10', '23', '27', '22', '30', '14', '18', '77', '43', '81', '11', '31', '24']\n",
      "/var/folders/1p/_mmx_n854bl5ytvfkg4h377m0000gn/T/ipykernel_2776/877282191.py:33: SettingWithCopyWarning: \n",
      "A value is trying to be set on a copy of a slice from a DataFrame.\n",
      "Try using .loc[row_indexer,col_indexer] = value instead\n",
      "\n",
      "See the caveats in the documentation: https://pandas.pydata.org/pandas-docs/stable/user_guide/indexing.html#returning-a-view-versus-a-copy\n",
      "  quali_sessions[\"GreenLightCount\"] = (quali_sessions[\"Message\"].str.contains(\"GREEN LIGHT\")\n",
      "/var/folders/1p/_mmx_n854bl5ytvfkg4h377m0000gn/T/ipykernel_2776/3747660080.py:36: DeprecationWarning: DataFrameGroupBy.apply operated on the grouping columns. This behavior is deprecated, and in a future version of pandas the grouping columns will be excluded from the operation. Either pass `include_groups=False` to exclude the groupings or explicitly select the grouping columns after groupby to silence this warning.\n",
      "  df = df.groupby(\"QualiSession\", group_keys=False).apply(update_rankings)\n",
      "core           INFO \tLoading data for São Paulo Grand Prix - Qualifying [v3.4.3]\n",
      "req            INFO \tUsing cached data for session_info\n",
      "req            INFO \tUsing cached data for driver_info\n",
      "Request for URL https://ergast.com/api/f1/2024/21/qualifying.json failed; using cached response\n",
      "Traceback (most recent call last):\n",
      "  File \"/Users/katecastillo/Documents/learning/f1-exploration/.venv/lib/python3.11/site-packages/requests_cache/session.py\", line 286, in _resend\n",
      "    response = self._send_and_cache(request, actions, cached_response, **kwargs)\n",
      "               ^^^^^^^^^^^^^^^^^^^^^^^^^^^^^^^^^^^^^^^^^^^^^^^^^^^^^^^^^^^^^^^^^\n",
      "  File \"/Users/katecastillo/Documents/learning/f1-exploration/.venv/lib/python3.11/site-packages/requests_cache/session.py\", line 254, in _send_and_cache\n",
      "    response = super().send(request, **kwargs)\n",
      "               ^^^^^^^^^^^^^^^^^^^^^^^^^^^^^^^\n",
      "  File \"/Users/katecastillo/Documents/learning/f1-exploration/.venv/lib/python3.11/site-packages/fastf1/req.py\", line 134, in send\n",
      "    lim.limit()\n",
      "  File \"/Users/katecastillo/Documents/learning/f1-exploration/.venv/lib/python3.11/site-packages/fastf1/req.py\", line 104, in limit\n",
      "    raise RateLimitExceededError(self._info)\n",
      "fastf1.req.RateLimitExceededError: any API: 500 calls/h\n",
      "req            INFO \tUsing cached data for session_status_data\n",
      "req            INFO \tUsing cached data for track_status_data\n",
      "req            INFO \tUsing cached data for _extended_timing_data\n",
      "req            INFO \tUsing cached data for timing_app_data\n",
      "core           INFO \tProcessing timing data...\n"
     ]
    },
    {
     "name": "stdout",
     "output_type": "stream",
     "text": [
      "2024 São Paulo Grand Prix\n"
     ]
    },
    {
     "name": "stderr",
     "output_type": "stream",
     "text": [
      "req            INFO \tUsing cached data for car_data\n",
      "req            INFO \tUsing cached data for position_data\n",
      "req            INFO \tUsing cached data for weather_data\n",
      "req            INFO \tUsing cached data for race_control_messages\n",
      "core           INFO \tFinished loading data for 20 drivers: ['4', '63', '22', '31', '30', '16', '23', '81', '14', '18', '77', '1', '11', '55', '10', '44', '50', '43', '27', '24']\n",
      "/var/folders/1p/_mmx_n854bl5ytvfkg4h377m0000gn/T/ipykernel_2776/877282191.py:33: SettingWithCopyWarning: \n",
      "A value is trying to be set on a copy of a slice from a DataFrame.\n",
      "Try using .loc[row_indexer,col_indexer] = value instead\n",
      "\n",
      "See the caveats in the documentation: https://pandas.pydata.org/pandas-docs/stable/user_guide/indexing.html#returning-a-view-versus-a-copy\n",
      "  quali_sessions[\"GreenLightCount\"] = (quali_sessions[\"Message\"].str.contains(\"GREEN LIGHT\")\n",
      "/var/folders/1p/_mmx_n854bl5ytvfkg4h377m0000gn/T/ipykernel_2776/3747660080.py:36: DeprecationWarning: DataFrameGroupBy.apply operated on the grouping columns. This behavior is deprecated, and in a future version of pandas the grouping columns will be excluded from the operation. Either pass `include_groups=False` to exclude the groupings or explicitly select the grouping columns after groupby to silence this warning.\n",
      "  df = df.groupby(\"QualiSession\", group_keys=False).apply(update_rankings)\n"
     ]
    }
   ],
   "source": [
    "df = extract_data(np.arange(2023, 2025, 1), \"Q\")"
   ]
  },
  {
   "cell_type": "code",
   "execution_count": 264,
   "metadata": {},
   "outputs": [
    {
     "data": {
      "text/plain": [
       "Index(['Event', 'Driver', 'Team', 'LapTime', 'LapNumber', 'Stint',\n",
       "       'Sector1Time', 'Sector2Time', 'Sector3Time', 'SpeedI1', 'SpeedI2',\n",
       "       'SpeedFL', 'SpeedST', 'IsPersonalBest', 'Compound', 'TyreLife',\n",
       "       'FreshTyre', 'TrackStatus', 'Deleted', 'DeletedReason', 'LapStartDate',\n",
       "       'QualiSession', 'LapRank', 'CurrentFastestLap', 'DeltaFastestLap'],\n",
       "      dtype='object')"
      ]
     },
     "execution_count": 264,
     "metadata": {},
     "output_type": "execute_result"
    }
   ],
   "source": [
    "df.columns"
   ]
  },
  {
   "cell_type": "code",
   "execution_count": 265,
   "metadata": {},
   "outputs": [
    {
     "data": {
      "text/html": [
       "<div>\n",
       "<style scoped>\n",
       "    .dataframe tbody tr th:only-of-type {\n",
       "        vertical-align: middle;\n",
       "    }\n",
       "\n",
       "    .dataframe tbody tr th {\n",
       "        vertical-align: top;\n",
       "    }\n",
       "\n",
       "    .dataframe thead th {\n",
       "        text-align: right;\n",
       "    }\n",
       "</style>\n",
       "<table border=\"1\" class=\"dataframe\">\n",
       "  <thead>\n",
       "    <tr style=\"text-align: right;\">\n",
       "      <th></th>\n",
       "      <th>Driver</th>\n",
       "      <th>QualiSession</th>\n",
       "      <th>LapStartDate</th>\n",
       "      <th>LapTime</th>\n",
       "      <th>LapRank</th>\n",
       "      <th>CurrentFastestLap</th>\n",
       "      <th>DeltaFastestLap</th>\n",
       "    </tr>\n",
       "  </thead>\n",
       "  <tbody>\n",
       "    <tr>\n",
       "      <th>273</th>\n",
       "      <td>ZHO</td>\n",
       "      <td>Q1</td>\n",
       "      <td>2024-10-19 22:02:13.812</td>\n",
       "      <td>0 days 00:01:35.479000</td>\n",
       "      <td>1.0</td>\n",
       "      <td>0 days 00:01:35.479000</td>\n",
       "      <td>0 days 00:00:00</td>\n",
       "    </tr>\n",
       "    <tr>\n",
       "      <th>106</th>\n",
       "      <td>GAS</td>\n",
       "      <td>Q1</td>\n",
       "      <td>2024-10-19 22:02:22.120</td>\n",
       "      <td>0 days 00:01:35.950000</td>\n",
       "      <td>2.0</td>\n",
       "      <td>0 days 00:01:35.479000</td>\n",
       "      <td>0 days 00:00:00.471000</td>\n",
       "    </tr>\n",
       "    <tr>\n",
       "      <th>204</th>\n",
       "      <td>OCO</td>\n",
       "      <td>Q1</td>\n",
       "      <td>2024-10-19 22:02:27.582</td>\n",
       "      <td>0 days 00:01:34.971000</td>\n",
       "      <td>1.0</td>\n",
       "      <td>0 days 00:01:34.971000</td>\n",
       "      <td>0 days 00:00:00</td>\n",
       "    </tr>\n",
       "    <tr>\n",
       "      <th>258</th>\n",
       "      <td>BOT</td>\n",
       "      <td>Q1</td>\n",
       "      <td>2024-10-19 22:02:32.564</td>\n",
       "      <td>0 days 00:01:34.714000</td>\n",
       "      <td>1.0</td>\n",
       "      <td>0 days 00:01:34.714000</td>\n",
       "      <td>0 days 00:00:00</td>\n",
       "    </tr>\n",
       "    <tr>\n",
       "      <th>126</th>\n",
       "      <td>ALO</td>\n",
       "      <td>Q1</td>\n",
       "      <td>2024-10-19 22:02:36.929</td>\n",
       "      <td>0 days 00:01:34.496000</td>\n",
       "      <td>1.0</td>\n",
       "      <td>0 days 00:01:34.496000</td>\n",
       "      <td>0 days 00:00:00</td>\n",
       "    </tr>\n",
       "    <tr>\n",
       "      <th>1</th>\n",
       "      <td>NOR</td>\n",
       "      <td>Q1</td>\n",
       "      <td>2024-10-19 22:03:05.755</td>\n",
       "      <td>0 days 00:01:34.029000</td>\n",
       "      <td>1.0</td>\n",
       "      <td>0 days 00:01:34.029000</td>\n",
       "      <td>0 days 00:00:00</td>\n",
       "    </tr>\n",
       "    <tr>\n",
       "      <th>34</th>\n",
       "      <td>SAI</td>\n",
       "      <td>Q1</td>\n",
       "      <td>2024-10-19 22:03:14.636</td>\n",
       "      <td>0 days 00:01:34.104000</td>\n",
       "      <td>2.0</td>\n",
       "      <td>0 days 00:01:34.029000</td>\n",
       "      <td>0 days 00:00:00.075000</td>\n",
       "    </tr>\n",
       "    <tr>\n",
       "      <th>53</th>\n",
       "      <td>LEC</td>\n",
       "      <td>Q1</td>\n",
       "      <td>2024-10-19 22:03:24.015</td>\n",
       "      <td>0 days 00:01:34.913000</td>\n",
       "      <td>5.0</td>\n",
       "      <td>0 days 00:01:34.029000</td>\n",
       "      <td>0 days 00:00:00.884000</td>\n",
       "    </tr>\n",
       "    <tr>\n",
       "      <th>73</th>\n",
       "      <td>PIA</td>\n",
       "      <td>Q1</td>\n",
       "      <td>2024-10-19 22:03:38.366</td>\n",
       "      <td>0 days 00:01:34.243000</td>\n",
       "      <td>3.0</td>\n",
       "      <td>0 days 00:01:34.029000</td>\n",
       "      <td>0 days 00:00:00.214000</td>\n",
       "    </tr>\n",
       "    <tr>\n",
       "      <th>17</th>\n",
       "      <td>VER</td>\n",
       "      <td>Q1</td>\n",
       "      <td>2024-10-19 22:05:52.737</td>\n",
       "      <td>0 days 00:01:33.690000</td>\n",
       "      <td>1.0</td>\n",
       "      <td>0 days 00:01:33.690000</td>\n",
       "      <td>0 days 00:00:00</td>\n",
       "    </tr>\n",
       "  </tbody>\n",
       "</table>\n",
       "</div>"
      ],
      "text/plain": [
       "    Driver QualiSession            LapStartDate                LapTime  \\\n",
       "273    ZHO           Q1 2024-10-19 22:02:13.812 0 days 00:01:35.479000   \n",
       "106    GAS           Q1 2024-10-19 22:02:22.120 0 days 00:01:35.950000   \n",
       "204    OCO           Q1 2024-10-19 22:02:27.582 0 days 00:01:34.971000   \n",
       "258    BOT           Q1 2024-10-19 22:02:32.564 0 days 00:01:34.714000   \n",
       "126    ALO           Q1 2024-10-19 22:02:36.929 0 days 00:01:34.496000   \n",
       "1      NOR           Q1 2024-10-19 22:03:05.755 0 days 00:01:34.029000   \n",
       "34     SAI           Q1 2024-10-19 22:03:14.636 0 days 00:01:34.104000   \n",
       "53     LEC           Q1 2024-10-19 22:03:24.015 0 days 00:01:34.913000   \n",
       "73     PIA           Q1 2024-10-19 22:03:38.366 0 days 00:01:34.243000   \n",
       "17     VER           Q1 2024-10-19 22:05:52.737 0 days 00:01:33.690000   \n",
       "\n",
       "     LapRank      CurrentFastestLap        DeltaFastestLap  \n",
       "273      1.0 0 days 00:01:35.479000        0 days 00:00:00  \n",
       "106      2.0 0 days 00:01:35.479000 0 days 00:00:00.471000  \n",
       "204      1.0 0 days 00:01:34.971000        0 days 00:00:00  \n",
       "258      1.0 0 days 00:01:34.714000        0 days 00:00:00  \n",
       "126      1.0 0 days 00:01:34.496000        0 days 00:00:00  \n",
       "1        1.0 0 days 00:01:34.029000        0 days 00:00:00  \n",
       "34       2.0 0 days 00:01:34.029000 0 days 00:00:00.075000  \n",
       "53       5.0 0 days 00:01:34.029000 0 days 00:00:00.884000  \n",
       "73       3.0 0 days 00:01:34.029000 0 days 00:00:00.214000  \n",
       "17       1.0 0 days 00:01:33.690000        0 days 00:00:00  "
      ]
     },
     "execution_count": 265,
     "metadata": {},
     "output_type": "execute_result"
    }
   ],
   "source": [
    "cols = [\"Driver\", \"QualiSession\", \"LapStartDate\", \"LapTime\", \"LapRank\", \"CurrentFastestLap\", \"DeltaFastestLap\"]\n",
    "\n",
    "df[df[\"Event\"]==\"2024 United States Grand Prix\"][cols].sort_values(\"LapStartDate\").head(10)"
   ]
  },
  {
   "cell_type": "code",
   "execution_count": null,
   "metadata": {},
   "outputs": [],
   "source": []
  }
 ],
 "metadata": {
  "kernelspec": {
   "display_name": ".venv",
   "language": "python",
   "name": "python3"
  },
  "language_info": {
   "codemirror_mode": {
    "name": "ipython",
    "version": 3
   },
   "file_extension": ".py",
   "mimetype": "text/x-python",
   "name": "python",
   "nbconvert_exporter": "python",
   "pygments_lexer": "ipython3",
   "version": "3.11.9"
  }
 },
 "nbformat": 4,
 "nbformat_minor": 2
}
